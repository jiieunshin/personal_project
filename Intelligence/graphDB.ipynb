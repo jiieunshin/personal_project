{
 "cells": [
  {
   "cell_type": "markdown",
   "id": "dfbff3f3",
   "metadata": {},
   "source": [
    "1. DB연동"
   ]
  },
  {
   "cell_type": "code",
   "execution_count": 1,
   "id": "7a8d7d97",
   "metadata": {},
   "outputs": [],
   "source": [
    "from neo4j import GraphDatabase\n",
    "import requests\n",
    "from py2neo import Graph\n",
    "from neo4j import __version__ as neo4j_version\n",
    "\n",
    "url = \"neo4j://172.16.200.28:7687\"\n",
    "user = \"neo4j\"\n",
    "password = \"testneo4j\"\n",
    "\n",
    "graph = Graph(uri=url, user=user, password=password)"
   ]
  },
  {
   "cell_type": "markdown",
   "id": "99488c58",
   "metadata": {},
   "source": [
    "2. 데이터 불러오기"
   ]
  },
  {
   "cell_type": "code",
   "execution_count": 2,
   "id": "5381934f",
   "metadata": {},
   "outputs": [
    {
     "data": {
      "text/html": [
       "<div>\n",
       "<style scoped>\n",
       "    .dataframe tbody tr th:only-of-type {\n",
       "        vertical-align: middle;\n",
       "    }\n",
       "\n",
       "    .dataframe tbody tr th {\n",
       "        vertical-align: top;\n",
       "    }\n",
       "\n",
       "    .dataframe thead th {\n",
       "        text-align: right;\n",
       "    }\n",
       "</style>\n",
       "<table border=\"1\" class=\"dataframe\">\n",
       "  <thead>\n",
       "    <tr style=\"text-align: right;\">\n",
       "      <th></th>\n",
       "      <th>synsets</th>\n",
       "      <th>h</th>\n",
       "      <th>object_id</th>\n",
       "      <th>merged_object_ids</th>\n",
       "      <th>names</th>\n",
       "      <th>w</th>\n",
       "      <th>y</th>\n",
       "      <th>x</th>\n",
       "    </tr>\n",
       "  </thead>\n",
       "  <tbody>\n",
       "    <tr>\n",
       "      <th>0</th>\n",
       "      <td>[tree.n.01]</td>\n",
       "      <td>557</td>\n",
       "      <td>1058549</td>\n",
       "      <td>[]</td>\n",
       "      <td>[trees]</td>\n",
       "      <td>799</td>\n",
       "      <td>0</td>\n",
       "      <td>0</td>\n",
       "    </tr>\n",
       "    <tr>\n",
       "      <th>1</th>\n",
       "      <td>[sidewalk.n.01]</td>\n",
       "      <td>290</td>\n",
       "      <td>1058534</td>\n",
       "      <td>[5046]</td>\n",
       "      <td>[sidewalk]</td>\n",
       "      <td>722</td>\n",
       "      <td>308</td>\n",
       "      <td>78</td>\n",
       "    </tr>\n",
       "    <tr>\n",
       "      <th>2</th>\n",
       "      <td>[building.n.01]</td>\n",
       "      <td>538</td>\n",
       "      <td>1058508</td>\n",
       "      <td>[]</td>\n",
       "      <td>[building]</td>\n",
       "      <td>222</td>\n",
       "      <td>0</td>\n",
       "      <td>1</td>\n",
       "    </tr>\n",
       "    <tr>\n",
       "      <th>3</th>\n",
       "      <td>[street.n.01]</td>\n",
       "      <td>258</td>\n",
       "      <td>1058539</td>\n",
       "      <td>[3798578]</td>\n",
       "      <td>[street]</td>\n",
       "      <td>359</td>\n",
       "      <td>283</td>\n",
       "      <td>439</td>\n",
       "    </tr>\n",
       "    <tr>\n",
       "      <th>4</th>\n",
       "      <td>[wall.n.01]</td>\n",
       "      <td>535</td>\n",
       "      <td>1058543</td>\n",
       "      <td>[]</td>\n",
       "      <td>[wall]</td>\n",
       "      <td>135</td>\n",
       "      <td>1</td>\n",
       "      <td>0</td>\n",
       "    </tr>\n",
       "  </tbody>\n",
       "</table>\n",
       "</div>"
      ],
      "text/plain": [
       "           synsets    h  object_id merged_object_ids       names    w    y  \\\n",
       "0      [tree.n.01]  557    1058549                []     [trees]  799    0   \n",
       "1  [sidewalk.n.01]  290    1058534            [5046]  [sidewalk]  722  308   \n",
       "2  [building.n.01]  538    1058508                []  [building]  222    0   \n",
       "3    [street.n.01]  258    1058539         [3798578]    [street]  359  283   \n",
       "4      [wall.n.01]  535    1058543                []      [wall]  135    1   \n",
       "\n",
       "     x  \n",
       "0    0  \n",
       "1   78  \n",
       "2    1  \n",
       "3  439  \n",
       "4    0  "
      ]
     },
     "execution_count": 2,
     "metadata": {},
     "output_type": "execute_result"
    }
   ],
   "source": [
    "import pandas as pd\n",
    "object_detail_data = pd.read_json('datasets/data_tools/VG/objects_details.json')\n",
    "obj_dat = object_detail_data.head()\n",
    "obj_dat"
   ]
  },
  {
   "cell_type": "markdown",
   "id": "43d17344",
   "metadata": {},
   "source": [
    "3. 쿼리 작동 (노드 or 엣지 load)"
   ]
  },
  {
   "cell_type": "code",
   "execution_count": 4,
   "id": "20668675",
   "metadata": {},
   "outputs": [
    {
     "name": "stdout",
     "output_type": "stream",
     "text": [
      "row  0\n",
      "[{'o.name': \"['trees']\"}]\n",
      "row  1\n",
      "[{'o.name': \"['sidewalk']\"}]\n",
      "row  2\n",
      "[{'o.name': \"['building']\"}]\n",
      "row  3\n",
      "[{'o.name': \"['street']\"}]\n",
      "row  4\n",
      "[{'o.name': \"['wall']\"}]\n"
     ]
    }
   ],
   "source": [
    "query = \"\"\"\n",
    "    MERGE (o:test2 {{name: \"{object_name}\", id: \"{object_id}\"}}) \n",
    "    RETURN o.name;\n",
    "    \"\"\"\n",
    "\n",
    "k = 0\n",
    "for d in obj_dat.values: \n",
    "    result = graph.run(query.format(object_name=d[4], object_id=d[2]))\n",
    "    d = result.data()\n",
    "    print(\"row \", k)\n",
    "    print(d)\n",
    "    k = k + 1"
   ]
  },
  {
   "cell_type": "code",
   "execution_count": null,
   "id": "2511964c",
   "metadata": {},
   "outputs": [],
   "source": [
    "## 관계 생성\n",
    "query = \"\"\"\n",
    "    MATCH (s:object), (o:object) \n",
    "    WHERE s.object_id = {subj_id} and o.object_id = {obj_id}\n",
    "    CREATE (s)-[r:`{predicate}` {{id: \"{rels_id}\", synset: \"{rels_synset}\"}}]->(o) \n",
    "    RETURN s.names, o.names, type(r) as relation_type;\"\"\"\n",
    "\n",
    "k = 0\n",
    "for d in rels_df.values: \n",
    "    result = graph.run(query.format(predicate=d[0], rels_id=d[1], rels_synset=d[2], subj_id = d[12], obj_id = d[5]))\n",
    "    d = result.data()\n",
    "    print(\"row \", k)\n",
    "    print(d)\n",
    "    k = k + 1"
   ]
  },
  {
   "cell_type": "markdown",
   "id": "b702a7df",
   "metadata": {},
   "source": [
    "4. 노드 검색하기"
   ]
  },
  {
   "cell_type": "code",
   "execution_count": 5,
   "id": "afd36442",
   "metadata": {},
   "outputs": [
    {
     "data": {
      "text/plain": [
       "[Record({'n': Node('test2', id='2', name='4')}),\n",
       " Record({'n': Node('test2', id='1058549', name=\"['trees']\")}),\n",
       " Record({'n': Node('test2', id='1058534', name=\"['sidewalk']\")}),\n",
       " Record({'n': Node('test2', id='1058508', name=\"['building']\")}),\n",
       " Record({'n': Node('test2', id='1058539', name=\"['street']\")}),\n",
       " Record({'n': Node('test2', id='1058543', name=\"['wall']\")})]"
      ]
     },
     "execution_count": 5,
     "metadata": {},
     "output_type": "execute_result"
    }
   ],
   "source": [
    "q = 'MATCH (n:test2) RETURN n'\n",
    "results = graph.run(q)\n",
    "results = list(results)\n",
    "\n",
    "results"
   ]
  }
 ],
 "metadata": {
  "kernelspec": {
   "display_name": "Python 3 (ipykernel)",
   "language": "python",
   "name": "python3"
  },
  "language_info": {
   "codemirror_mode": {
    "name": "ipython",
    "version": 3
   },
   "file_extension": ".py",
   "mimetype": "text/x-python",
   "name": "python",
   "nbconvert_exporter": "python",
   "pygments_lexer": "ipython3",
   "version": "3.8.15"
  }
 },
 "nbformat": 4,
 "nbformat_minor": 5
}
