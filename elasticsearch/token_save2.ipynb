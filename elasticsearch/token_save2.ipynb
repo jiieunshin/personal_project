{
 "cells": [
  {
   "cell_type": "markdown",
   "metadata": {},
   "source": [
    "### connection"
   ]
  },
  {
   "cell_type": "code",
   "execution_count": 1,
   "metadata": {},
   "outputs": [],
   "source": [
    "from elasticsearch import helpers, Elasticsearch\n",
    "import csv\n",
    "import os\n",
    "import requests\n",
    "from requests.packages.urllib3.exceptions import InsecureRequestWarning\n",
    "from elasticsearch.helpers import reindex\n",
    "import pandas as pd\n",
    "import re\n",
    "import torch\n",
    "# requests.packages.urllib3.disable_warnings(InsecureRequestWarning)"
   ]
  },
  {
   "cell_type": "code",
   "execution_count": 2,
   "metadata": {},
   "outputs": [
    {
     "data": {
      "application/vnd.jupyter.widget-view+json": {
       "model_id": "aa47be0a1b5a4eaeaa9113c1ac3ed7b5",
       "version_major": 2,
       "version_minor": 0
      },
      "text/plain": [
       "Loading checkpoint shards:   0%|          | 0/13 [00:00<?, ?it/s]"
      ]
     },
     "metadata": {},
     "output_type": "display_data"
    }
   ],
   "source": [
    "# koalpaka 연결\n",
    "from transformers import pipeline, AutoModelForCausalLM\n",
    "\n",
    "MODEL = 'beomi/KoAlpaca-Polyglot-5.8B'\n",
    "\n",
    "model = AutoModelForCausalLM.from_pretrained(\n",
    "    MODEL,\n",
    "    torch_dtype=torch.float16,\n",
    "    low_cpu_mem_usage=True,\n",
    ").to(device=f\"cuda\", non_blocking=True)\n",
    "model.eval()\n",
    "\n",
    "pipe = pipeline(\n",
    "    'text-generation', \n",
    "    model=model,\n",
    "    tokenizer=MODEL,\n",
    "    device=0\n",
    ")\n",
    "\n",
    "def ask(x, context='', is_input_full=False):\n",
    "    ans = pipe(\n",
    "        f\"### 질문: {x}\\n\\n### 맥락: {context}\\n\\n### 답변:\" if context else f\"### 질문: {x}\\n\\n### 답변:\", \n",
    "        do_sample=True, \n",
    "        max_new_tokens=512,\n",
    "        temperature=0.7,\n",
    "        top_p=0.9,\n",
    "        return_full_text=False,\n",
    "        eos_token_id=2,\n",
    "    )\n",
    "    print(ans[0]['generated_text'])"
   ]
  },
  {
   "cell_type": "code",
   "execution_count": 3,
   "metadata": {},
   "outputs": [
    {
     "name": "stdout",
     "output_type": "stream",
     "text": [
      "2.0.1+cu118\n",
      "True\n"
     ]
    }
   ],
   "source": [
    "# torch 사용가능 확인\n",
    "print(torch.__version__)\n",
    "print(torch.cuda.is_available())"
   ]
  },
  {
   "cell_type": "code",
   "execution_count": 4,
   "metadata": {},
   "outputs": [
    {
     "data": {
      "text/plain": [
       "'c:\\\\Users\\\\jieun\\\\Desktop\\\\project\\\\elastic'"
      ]
     },
     "execution_count": 4,
     "metadata": {},
     "output_type": "execute_result"
    }
   ],
   "source": [
    "os.chdir('..')\n",
    "os.getcwd()"
   ]
  },
  {
   "cell_type": "code",
   "execution_count": 5,
   "metadata": {},
   "outputs": [
    {
     "name": "stderr",
     "output_type": "stream",
     "text": [
      "c:\\Users\\jieun\\AppData\\Local\\Programs\\Python\\Python310\\lib\\site-packages\\elasticsearch\\_sync\\client\\__init__.py:395: SecurityWarning: Connecting to 'https://172.16.204.158:9200' using TLS with verify_certs=False is insecure\n",
      "  _transport = transport_class(\n",
      "c:\\Users\\jieun\\AppData\\Local\\Programs\\Python\\Python310\\lib\\site-packages\\urllib3\\connectionpool.py:1045: InsecureRequestWarning: Unverified HTTPS request is being made to host '172.16.204.158'. Adding certificate verification is strongly advised. See: https://urllib3.readthedocs.io/en/1.26.x/advanced-usage.html#ssl-warnings\n",
      "  warnings.warn(\n"
     ]
    },
    {
     "data": {
      "text/plain": [
       "ObjectApiResponse({'name': 'JIEUN', 'cluster_name': 'elasticsearch', 'cluster_uuid': 'm_kcEMjTSWqeNtfhEZ_sgw', 'version': {'number': '8.9.1', 'build_flavor': 'default', 'build_type': 'zip', 'build_hash': 'a813d015ef1826148d9d389bd1c0d781c6e349f0', 'build_date': '2023-08-10T05:02:32.517455352Z', 'build_snapshot': False, 'lucene_version': '9.7.0', 'minimum_wire_compatibility_version': '7.17.0', 'minimum_index_compatibility_version': '7.0.0'}, 'tagline': 'You Know, for Search'})"
      ]
     },
     "execution_count": 5,
     "metadata": {},
     "output_type": "execute_result"
    }
   ],
   "source": [
    "# 엘라스틱 연결\n",
    "es = Elasticsearch('https://172.16.204.158:9200', basic_auth=['jieun','jieun123'], verify_certs=False)\n",
    "es.info()"
   ]
  },
  {
   "cell_type": "code",
   "execution_count": 10,
   "metadata": {},
   "outputs": [],
   "source": [
    "from pandas.api.types import is_numeric_dtype\n",
    "from pandas.api.types import is_string_dtype"
   ]
  },
  {
   "cell_type": "markdown",
   "metadata": {},
   "source": [
    "---\n",
    "\n",
    "### 데이터 bulk load"
   ]
  },
  {
   "cell_type": "code",
   "execution_count": 146,
   "metadata": {},
   "outputs": [
    {
     "name": "stderr",
     "output_type": "stream",
     "text": [
      "C:\\Users\\jieun\\AppData\\Local\\Temp\\ipykernel_63644\\4264031060.py:74: DeprecationWarning: The 'body' parameter is deprecated and will be removed in a future version. Instead use individual parameters.\n",
      "  es.indices.create(index = index_name, body = index_settings)\n",
      "c:\\Users\\jieun\\AppData\\Local\\Programs\\Python\\Python310\\lib\\site-packages\\urllib3\\connectionpool.py:1045: InsecureRequestWarning: Unverified HTTPS request is being made to host '172.16.204.158'. Adding certificate verification is strongly advised. See: https://urllib3.readthedocs.io/en/1.26.x/advanced-usage.html#ssl-warnings\n",
      "  warnings.warn(\n",
      "c:\\Users\\jieun\\AppData\\Local\\Programs\\Python\\Python310\\lib\\site-packages\\urllib3\\connectionpool.py:1045: InsecureRequestWarning: Unverified HTTPS request is being made to host '172.16.204.158'. Adding certificate verification is strongly advised. See: https://urllib3.readthedocs.io/en/1.26.x/advanced-usage.html#ssl-warnings\n",
      "  warnings.warn(\n"
     ]
    },
    {
     "ename": "BulkIndexError",
     "evalue": "34 document(s) failed to index.",
     "output_type": "error",
     "traceback": [
      "\u001b[1;31m---------------------------------------------------------------------------\u001b[0m",
      "\u001b[1;31mBulkIndexError\u001b[0m                            Traceback (most recent call last)",
      "\u001b[1;32mc:\\Users\\jieun\\Desktop\\project\\elastic\\code\\token_save2.ipynb Cell 9\u001b[0m line \u001b[0;36m8\n\u001b[0;32m     <a href='vscode-notebook-cell:/c%3A/Users/jieun/Desktop/project/elastic/code/token_save2.ipynb#X10sZmlsZQ%3D%3D?line=78'>79</a>\u001b[0m     data \u001b[39m=\u001b[39m row\u001b[39m.\u001b[39mto_dict()\n\u001b[0;32m     <a href='vscode-notebook-cell:/c%3A/Users/jieun/Desktop/project/elastic/code/token_save2.ipynb#X10sZmlsZQ%3D%3D?line=79'>80</a>\u001b[0m     actions\u001b[39m.\u001b[39mextend([{\u001b[39m\"\u001b[39m\u001b[39m_index\u001b[39m\u001b[39m\"\u001b[39m: index_name, \u001b[39m\"\u001b[39m\u001b[39m_source\u001b[39m\u001b[39m\"\u001b[39m: data}])\n\u001b[1;32m---> <a href='vscode-notebook-cell:/c%3A/Users/jieun/Desktop/project/elastic/code/token_save2.ipynb#X10sZmlsZQ%3D%3D?line=81'>82</a>\u001b[0m helpers\u001b[39m.\u001b[39mbulk(es, actions)\n",
      "File \u001b[1;32mc:\\Users\\jieun\\AppData\\Local\\Programs\\Python\\Python310\\lib\\site-packages\\elasticsearch\\helpers\\actions.py:521\u001b[0m, in \u001b[0;36mbulk\u001b[1;34m(client, actions, stats_only, ignore_status, *args, **kwargs)\u001b[0m\n\u001b[0;32m    519\u001b[0m \u001b[39m# make streaming_bulk yield successful results so we can count them\u001b[39;00m\n\u001b[0;32m    520\u001b[0m kwargs[\u001b[39m\"\u001b[39m\u001b[39myield_ok\u001b[39m\u001b[39m\"\u001b[39m] \u001b[39m=\u001b[39m \u001b[39mTrue\u001b[39;00m\n\u001b[1;32m--> 521\u001b[0m \u001b[39mfor\u001b[39;00m ok, item \u001b[39min\u001b[39;00m streaming_bulk(\n\u001b[0;32m    522\u001b[0m     client, actions, ignore_status\u001b[39m=\u001b[39mignore_status, \u001b[39m*\u001b[39margs, \u001b[39m*\u001b[39m\u001b[39m*\u001b[39mkwargs  \u001b[39m# type: ignore[misc]\u001b[39;00m\n\u001b[0;32m    523\u001b[0m ):\n\u001b[0;32m    524\u001b[0m     \u001b[39m# go through request-response pairs and detect failures\u001b[39;00m\n\u001b[0;32m    525\u001b[0m     \u001b[39mif\u001b[39;00m \u001b[39mnot\u001b[39;00m ok:\n\u001b[0;32m    526\u001b[0m         \u001b[39mif\u001b[39;00m \u001b[39mnot\u001b[39;00m stats_only:\n",
      "File \u001b[1;32mc:\\Users\\jieun\\AppData\\Local\\Programs\\Python\\Python310\\lib\\site-packages\\elasticsearch\\helpers\\actions.py:436\u001b[0m, in \u001b[0;36mstreaming_bulk\u001b[1;34m(client, actions, chunk_size, max_chunk_bytes, raise_on_error, expand_action_callback, raise_on_exception, max_retries, initial_backoff, max_backoff, yield_ok, ignore_status, *args, **kwargs)\u001b[0m\n\u001b[0;32m    433\u001b[0m     time\u001b[39m.\u001b[39msleep(\u001b[39mmin\u001b[39m(max_backoff, initial_backoff \u001b[39m*\u001b[39m \u001b[39m2\u001b[39m \u001b[39m*\u001b[39m\u001b[39m*\u001b[39m (attempt \u001b[39m-\u001b[39m \u001b[39m1\u001b[39m)))\n\u001b[0;32m    435\u001b[0m \u001b[39mtry\u001b[39;00m:\n\u001b[1;32m--> 436\u001b[0m     \u001b[39mfor\u001b[39;00m data, (ok, info) \u001b[39min\u001b[39;00m \u001b[39mzip\u001b[39m(\n\u001b[0;32m    437\u001b[0m         bulk_data,\n\u001b[0;32m    438\u001b[0m         _process_bulk_chunk(\n\u001b[0;32m    439\u001b[0m             client,\n\u001b[0;32m    440\u001b[0m             bulk_actions,\n\u001b[0;32m    441\u001b[0m             bulk_data,\n\u001b[0;32m    442\u001b[0m             raise_on_exception,\n\u001b[0;32m    443\u001b[0m             raise_on_error,\n\u001b[0;32m    444\u001b[0m             ignore_status,\n\u001b[0;32m    445\u001b[0m             \u001b[39m*\u001b[39margs,\n\u001b[0;32m    446\u001b[0m             \u001b[39m*\u001b[39m\u001b[39m*\u001b[39mkwargs,\n\u001b[0;32m    447\u001b[0m         ),\n\u001b[0;32m    448\u001b[0m     ):\n\u001b[0;32m    449\u001b[0m         \u001b[39mif\u001b[39;00m \u001b[39mnot\u001b[39;00m ok:\n\u001b[0;32m    450\u001b[0m             action, info \u001b[39m=\u001b[39m info\u001b[39m.\u001b[39mpopitem()\n",
      "File \u001b[1;32mc:\\Users\\jieun\\AppData\\Local\\Programs\\Python\\Python310\\lib\\site-packages\\elasticsearch\\helpers\\actions.py:355\u001b[0m, in \u001b[0;36m_process_bulk_chunk\u001b[1;34m(client, bulk_actions, bulk_data, raise_on_exception, raise_on_error, ignore_status, *args, **kwargs)\u001b[0m\n\u001b[0;32m    348\u001b[0m \u001b[39melse\u001b[39;00m:\n\u001b[0;32m    349\u001b[0m     gen \u001b[39m=\u001b[39m _process_bulk_chunk_success(\n\u001b[0;32m    350\u001b[0m         resp\u001b[39m=\u001b[39mresp\u001b[39m.\u001b[39mbody,\n\u001b[0;32m    351\u001b[0m         bulk_data\u001b[39m=\u001b[39mbulk_data,\n\u001b[0;32m    352\u001b[0m         ignore_status\u001b[39m=\u001b[39mignore_status,\n\u001b[0;32m    353\u001b[0m         raise_on_error\u001b[39m=\u001b[39mraise_on_error,\n\u001b[0;32m    354\u001b[0m     )\n\u001b[1;32m--> 355\u001b[0m \u001b[39myield from\u001b[39;00m gen\n",
      "File \u001b[1;32mc:\\Users\\jieun\\AppData\\Local\\Programs\\Python\\Python310\\lib\\site-packages\\elasticsearch\\helpers\\actions.py:274\u001b[0m, in \u001b[0;36m_process_bulk_chunk_success\u001b[1;34m(resp, bulk_data, ignore_status, raise_on_error)\u001b[0m\n\u001b[0;32m    271\u001b[0m         \u001b[39myield\u001b[39;00m ok, {op_type: item}\n\u001b[0;32m    273\u001b[0m \u001b[39mif\u001b[39;00m errors:\n\u001b[1;32m--> 274\u001b[0m     \u001b[39mraise\u001b[39;00m BulkIndexError(\u001b[39mf\u001b[39m\u001b[39m\"\u001b[39m\u001b[39m{\u001b[39;00m\u001b[39mlen\u001b[39m(errors)\u001b[39m}\u001b[39;00m\u001b[39m document(s) failed to index.\u001b[39m\u001b[39m\"\u001b[39m, errors)\n",
      "\u001b[1;31mBulkIndexError\u001b[0m: 34 document(s) failed to index."
     ]
    }
   ],
   "source": [
    "# CSV 파일 불러오기\n",
    "# data_path = \"data/\"\n",
    "# csv_files = os.listdir(data_path)\n",
    "# dataframes = [pd.read_csv(data_path + file) for file in csv_files]\n",
    "# print(csv_files)\n",
    "\n",
    "dd = pd.read_csv(\"C:/Users/jieun/Desktop/project/elastic/data/3_서울시 종로구 모범음식점 지정 현황.csv\")\n",
    "# dd = dd.fillna(0)\n",
    "index_name = \"서울시_종로구_모범음식점_지정_현황\"\n",
    "\n",
    "field_name = dd.columns.to_list()\n",
    "f_type = dd.dtypes\n",
    "\n",
    "# Define a custom analyzer\n",
    "custom_analyzer = {\n",
    "    \"tokenizer\": \"my_tokenizer\",\n",
    "    \"filter\": [\"lowercase\", \"trim\", \"stop\", \"my_filter\", \"nori_filter\"],\n",
    "    \"char_filter\": [\"html_strip\"]\n",
    "}\n",
    "\n",
    "# Define a custom filter for the analyzer\n",
    "custom_filter = {\n",
    "    \"type\": \"pattern_replace\",\n",
    "    \"pattern\": \"[^a-zA-Z0-9가-힣\\\\s]\",\n",
    "    \"replacement\": \" \"\n",
    "}\n",
    "\n",
    "# Define a custom tokenizer\n",
    "custom_tokenizer = {\n",
    "    \"type\": \"nori_tokenizer\",\n",
    "    \"decompound_mode\": \"mixed\",\n",
    "    \"discard_punctuation\": False\n",
    "}\n",
    "\n",
    "# nori 토큰 필터 설정\n",
    "nori_filter = {\n",
    "    \"type\": \"nori_part_of_speech\",\n",
    "    \"stoptags\": [\"E\", \"IC\", \"J\", \"MAG\", \"MAJ\", \"MM\", \"SP\", \"SSC\", \"SSO\", \"SC\", \"SE\", \"XPN\", \"XSA\", \"XSN\", \"XSV\", \"UNA\", \"NA\", \"VSV\"]\n",
    "}\n",
    "\n",
    "# Create an index with custom analyzer and tokenizer settings\n",
    "index_settings = {\n",
    "    \"settings\": {\n",
    "        \"analysis\": {\n",
    "            \"analyzer\": {\n",
    "                \"my_analyzer\": custom_analyzer\n",
    "            },\n",
    "            \"filter\": {\n",
    "                \"my_filter\": custom_filter,\n",
    "                \"nori_filter\": nori_filter\n",
    "            },\n",
    "            \"tokenizer\": {\n",
    "                \"my_tokenizer\": custom_tokenizer\n",
    "            }\n",
    "        }\n",
    "    },\n",
    "    \"mappings\": {\n",
    "        \"properties\": {}  # We'll add the properties dynamically\n",
    "    }\n",
    "}\n",
    "\n",
    "# Iterate through the dataframes and dynamically add properties to the mappings\n",
    "# for df in dataframes:\n",
    "fields = dd.columns.tolist()\n",
    "\n",
    "for field in fields:\n",
    "    field_type = \"text\" if pd.api.types.is_string_dtype(dd[field]) else \"long\"\n",
    "    if field_type == \"text\":\n",
    "        index_settings[\"mappings\"][\"properties\"][field] = {\"type\": field_type, \"analyzer\": \"my_analyzer\"}\n",
    "    else:\n",
    "        index_settings[\"mappings\"][\"properties\"][field] = {\"type\": field_type}\n",
    "\n",
    "# Create the index with the defined settings\n",
    "es.indices.create(index = index_name, body = index_settings)\n",
    "\n",
    "# Bulk insert data into Elasticsearch\n",
    "actions = []\n",
    "for _, row in dd.iterrows():\n",
    "    data = row.to_dict()\n",
    "    actions.extend([{\"_index\": index_name, \"_source\": data}])\n",
    "\n",
    "helpers.bulk(es, actions)\n"
   ]
  },
  {
   "cell_type": "code",
   "execution_count": 136,
   "metadata": {},
   "outputs": [
    {
     "data": {
      "text/html": [
       "<div>\n",
       "<style scoped>\n",
       "    .dataframe tbody tr th:only-of-type {\n",
       "        vertical-align: middle;\n",
       "    }\n",
       "\n",
       "    .dataframe tbody tr th {\n",
       "        vertical-align: top;\n",
       "    }\n",
       "\n",
       "    .dataframe thead th {\n",
       "        text-align: right;\n",
       "    }\n",
       "</style>\n",
       "<table border=\"1\" class=\"dataframe\">\n",
       "  <thead>\n",
       "    <tr style=\"text-align: right;\">\n",
       "      <th></th>\n",
       "      <th>SUBWAY_ID</th>\n",
       "      <th>STATN_ID</th>\n",
       "      <th>STATN_NM</th>\n",
       "      <th>호선이름</th>\n",
       "    </tr>\n",
       "  </thead>\n",
       "  <tbody>\n",
       "    <tr>\n",
       "      <th>0</th>\n",
       "      <td>1001</td>\n",
       "      <td>1001000100</td>\n",
       "      <td>소요산</td>\n",
       "      <td>1호선</td>\n",
       "    </tr>\n",
       "    <tr>\n",
       "      <th>1</th>\n",
       "      <td>1001</td>\n",
       "      <td>1001000101</td>\n",
       "      <td>동두천</td>\n",
       "      <td>1호선</td>\n",
       "    </tr>\n",
       "    <tr>\n",
       "      <th>2</th>\n",
       "      <td>1001</td>\n",
       "      <td>1001000102</td>\n",
       "      <td>보산</td>\n",
       "      <td>1호선</td>\n",
       "    </tr>\n",
       "    <tr>\n",
       "      <th>3</th>\n",
       "      <td>1001</td>\n",
       "      <td>1001000103</td>\n",
       "      <td>동두천중앙</td>\n",
       "      <td>1호선</td>\n",
       "    </tr>\n",
       "    <tr>\n",
       "      <th>4</th>\n",
       "      <td>1001</td>\n",
       "      <td>1001000104</td>\n",
       "      <td>지행</td>\n",
       "      <td>1호선</td>\n",
       "    </tr>\n",
       "    <tr>\n",
       "      <th>...</th>\n",
       "      <td>...</td>\n",
       "      <td>...</td>\n",
       "      <td>...</td>\n",
       "      <td>...</td>\n",
       "    </tr>\n",
       "    <tr>\n",
       "      <th>655</th>\n",
       "      <td>1093</td>\n",
       "      <td>1093004014</td>\n",
       "      <td>달미</td>\n",
       "      <td>서해선</td>\n",
       "    </tr>\n",
       "    <tr>\n",
       "      <th>656</th>\n",
       "      <td>1093</td>\n",
       "      <td>1093004015</td>\n",
       "      <td>선부</td>\n",
       "      <td>서해선</td>\n",
       "    </tr>\n",
       "    <tr>\n",
       "      <th>657</th>\n",
       "      <td>1093</td>\n",
       "      <td>1093004016</td>\n",
       "      <td>초지</td>\n",
       "      <td>서해선</td>\n",
       "    </tr>\n",
       "    <tr>\n",
       "      <th>658</th>\n",
       "      <td>1093</td>\n",
       "      <td>1093004017</td>\n",
       "      <td>시우</td>\n",
       "      <td>서해선</td>\n",
       "    </tr>\n",
       "    <tr>\n",
       "      <th>659</th>\n",
       "      <td>1093</td>\n",
       "      <td>1093004018</td>\n",
       "      <td>원시</td>\n",
       "      <td>서해선</td>\n",
       "    </tr>\n",
       "  </tbody>\n",
       "</table>\n",
       "<p>660 rows × 4 columns</p>\n",
       "</div>"
      ],
      "text/plain": [
       "     SUBWAY_ID    STATN_ID STATN_NM 호선이름\n",
       "0         1001  1001000100      소요산  1호선\n",
       "1         1001  1001000101      동두천  1호선\n",
       "2         1001  1001000102       보산  1호선\n",
       "3         1001  1001000103    동두천중앙  1호선\n",
       "4         1001  1001000104       지행  1호선\n",
       "..         ...         ...      ...  ...\n",
       "655       1093  1093004014       달미  서해선\n",
       "656       1093  1093004015       선부  서해선\n",
       "657       1093  1093004016       초지  서해선\n",
       "658       1093  1093004017       시우  서해선\n",
       "659       1093  1093004018       원시  서해선\n",
       "\n",
       "[660 rows x 4 columns]"
      ]
     },
     "execution_count": 136,
     "metadata": {},
     "output_type": "execute_result"
    }
   ],
   "source": [
    "dd"
   ]
  },
  {
   "cell_type": "markdown",
   "metadata": {},
   "source": [
    "---"
   ]
  },
  {
   "cell_type": "markdown",
   "metadata": {},
   "source": [
    "### 엘라스틱 내 인덱스 확인"
   ]
  },
  {
   "cell_type": "code",
   "execution_count": 147,
   "metadata": {},
   "outputs": [
    {
     "name": "stdout",
     "output_type": "stream",
     "text": [
      ".kibana_8.9.1_001\n",
      ".internal.alerts-observability.logs.alerts-default-000001\n",
      ".internal.alerts-observability.uptime.alerts-default-000001\n",
      ".fleet-file-data-agent-000001\n",
      ".apm-agent-configuration\n",
      ".apm-source-map\n",
      ".internal.alerts-observability.slo.alerts-default-000001\n",
      ".fleet-files-agent-000001\n",
      ".kibana_security_session_1\n",
      ".internal.alerts-observability.apm.alerts-default-000001\n",
      ".kibana_task_manager_8.9.1_001\n",
      "실시간도착_역정보\n",
      ".internal.alerts-observability.metrics.alerts-default-000001\n",
      ".security-7\n",
      "서울시_지하철_호선별_첫차와_막차_정보_전철역코드_외부코드\n",
      ".kibana_ingest_8.9.1_001\n",
      ".kibana_analytics_8.9.1_001\n",
      ".apm-custom-link\n",
      ".kibana_alerting_cases_8.9.1_001\n",
      ".kibana_security_solution_8.9.1_001\n",
      "서울시_종로구_모범음식점_지정_현황\n",
      ".security-profile-8\n",
      ".internal.alerts-security.alerts-default-000001\n",
      ".async-search\n"
     ]
    },
    {
     "name": "stderr",
     "output_type": "stream",
     "text": [
      "c:\\Users\\jieun\\AppData\\Local\\Programs\\Python\\Python310\\lib\\site-packages\\urllib3\\connectionpool.py:1045: InsecureRequestWarning: Unverified HTTPS request is being made to host '172.16.204.158'. Adding certificate verification is strongly advised. See: https://urllib3.readthedocs.io/en/1.26.x/advanced-usage.html#ssl-warnings\n",
      "  warnings.warn(\n",
      "C:\\Users\\jieun\\AppData\\Local\\Temp\\ipykernel_63644\\3956420855.py:1: ElasticsearchWarning: this request accesses system indices: [.kibana_8.9.1_001, .apm-agent-configuration, .kibana_security_session_1, .kibana_task_manager_8.9.1_001, .security-7, .kibana_ingest_8.9.1_001, .kibana_analytics_8.9.1_001, .apm-custom-link, .kibana_alerting_cases_8.9.1_001, .kibana_security_solution_8.9.1_001, .security-profile-8, .async-search], but in a future major version, direct access to system indices will be prevented by default\n",
      "  index_list = es.indices.get_alias().keys()\n"
     ]
    }
   ],
   "source": [
    "index_list = es.indices.get_alias().keys()\n",
    "for index in index_list:\n",
    "    print(index)"
   ]
  },
  {
   "cell_type": "markdown",
   "metadata": {},
   "source": [
    "### 매핑정보 확인"
   ]
  },
  {
   "cell_type": "code",
   "execution_count": 120,
   "metadata": {},
   "outputs": [
    {
     "name": "stdout",
     "output_type": "stream",
     "text": [
      "Field: 급수시설구분, Data Type: text\n",
      "Field: 소재지도로명, Data Type: text\n",
      "Field: 소재지전화번호, Data Type: text\n",
      "Field: 소재지지번, Data Type: text\n",
      "Field: 시군구코드, Data Type: long\n",
      "Field: 신청일자, Data Type: long\n",
      "Field: 업소명, Data Type: text\n",
      "Field: 업태명, Data Type: text\n",
      "Field: 영업장면적(㎡), Data Type: long\n",
      "Field: 주된음식, Data Type: text\n",
      "Field: 지정년도, Data Type: long\n",
      "Field: 지정번호, Data Type: long\n",
      "Field: 지정일자, Data Type: long\n",
      "Field: 행정동명, Data Type: text\n",
      "Field: 허가(신고)번호, Data Type: text\n"
     ]
    },
    {
     "name": "stderr",
     "output_type": "stream",
     "text": [
      "c:\\Users\\jieun\\AppData\\Local\\Programs\\Python\\Python310\\lib\\site-packages\\urllib3\\connectionpool.py:1045: InsecureRequestWarning: Unverified HTTPS request is being made to host '172.16.204.158'. Adding certificate verification is strongly advised. See: https://urllib3.readthedocs.io/en/1.26.x/advanced-usage.html#ssl-warnings\n",
      "  warnings.warn(\n"
     ]
    }
   ],
   "source": [
    "# 매핑 정보 가져오기\n",
    "mapping = es.indices.get_mapping(index=\"서울시_종로구_모범음식점_지정_현황\")\n",
    "\n",
    "# 필드와 해당 데이터 타입 확인\n",
    "for field, field_info in mapping[index_name]['mappings']['properties'].items():\n",
    "    data_type = field_info['type']\n",
    "    print(f\"Field: {field}, Data Type: {data_type}\")"
   ]
  },
  {
   "cell_type": "markdown",
   "metadata": {},
   "source": [
    "### 토크나이저 정보 확인"
   ]
  },
  {
   "cell_type": "code",
   "execution_count": 121,
   "metadata": {},
   "outputs": [
    {
     "name": "stdout",
     "output_type": "stream",
     "text": [
      "Analyzer Settings: my_analyzer\n"
     ]
    },
    {
     "name": "stderr",
     "output_type": "stream",
     "text": [
      "c:\\Users\\jieun\\AppData\\Local\\Programs\\Python\\Python310\\lib\\site-packages\\urllib3\\connectionpool.py:1045: InsecureRequestWarning: Unverified HTTPS request is being made to host '172.16.204.158'. Adding certificate verification is strongly advised. See: https://urllib3.readthedocs.io/en/1.26.x/advanced-usage.html#ssl-warnings\n",
      "  warnings.warn(\n"
     ]
    }
   ],
   "source": [
    "# 인덱스의 매핑 설정 가져오기\n",
    "mapping = es.indices.get_mapping(index=index_name)\n",
    "\n",
    "# 분석 설정 확인\n",
    "analyzer_settings = mapping[index_name]['mappings']['properties']['소재지도로명']['analyzer']\n",
    "print(\"Analyzer Settings:\", analyzer_settings)"
   ]
  },
  {
   "cell_type": "code",
   "execution_count": 36,
   "metadata": {},
   "outputs": [
    {
     "name": "stdout",
     "output_type": "stream",
     "text": [
      "['실시간도착역정보', '서울시_지하철_호선별_첫차와_막차_정보전철역코드외부코드', '서울시_종로구_모범음식점_지정_현황']\n"
     ]
    }
   ],
   "source": [
    "# 정규 표현식 패턴\n",
    "korean_pattern = re.compile(\"[가-힣]\")\n",
    "\n",
    "# 리스트 컴프리헨션을 사용하여 한글이 포함된 요소 찾기\n",
    "korean_elements = [item for item in index_list if korean_pattern.search(item)]\n",
    "\n",
    "# 결과 출력\n",
    "print(korean_elements)"
   ]
  },
  {
   "cell_type": "markdown",
   "metadata": {},
   "source": [
    "### 인덱스 제거"
   ]
  },
  {
   "cell_type": "code",
   "execution_count": 143,
   "metadata": {},
   "outputs": [
    {
     "name": "stdout",
     "output_type": "stream",
     "text": [
      "인덱스 '실시간도착_역정보' 삭제 완료\n"
     ]
    },
    {
     "name": "stderr",
     "output_type": "stream",
     "text": [
      "c:\\Users\\jieun\\AppData\\Local\\Programs\\Python\\Python310\\lib\\site-packages\\urllib3\\connectionpool.py:1045: InsecureRequestWarning: Unverified HTTPS request is being made to host '172.16.204.158'. Adding certificate verification is strongly advised. See: https://urllib3.readthedocs.io/en/1.26.x/advanced-usage.html#ssl-warnings\n",
      "  warnings.warn(\n",
      "c:\\Users\\jieun\\AppData\\Local\\Programs\\Python\\Python310\\lib\\site-packages\\urllib3\\connectionpool.py:1045: InsecureRequestWarning: Unverified HTTPS request is being made to host '172.16.204.158'. Adding certificate verification is strongly advised. See: https://urllib3.readthedocs.io/en/1.26.x/advanced-usage.html#ssl-warnings\n",
      "  warnings.warn(\n"
     ]
    }
   ],
   "source": [
    "# 삭제할 인덱스 이름 지정\n",
    "index_name = \"실시간도착_역정보\"  # 삭제하려는 인덱스 이름을 설정하세요\n",
    "\n",
    "# 인덱스 삭제 명령 실행\n",
    "if es.indices.exists(index=index_name):\n",
    "    es.indices.delete(index=index_name)\n",
    "    print(f\"인덱스 '{index_name}' 삭제 완료\")\n",
    "else:\n",
    "    print(f\"인덱스 '{index_name}'는 이미 존재하지 않습니다.\")"
   ]
  },
  {
   "cell_type": "markdown",
   "metadata": {},
   "source": [
    "### 토크나이저 제거"
   ]
  },
  {
   "cell_type": "code",
   "execution_count": null,
   "metadata": {},
   "outputs": [],
   "source": [
    "# 제거할 토크나이저 이름 지정\n",
    "tokenizer_name_to_remove = \"nori_sample\"  # 제거하려는 토크나이저 이름을 설정하세요\n",
    "index_name = \"my-index2\"  # 인덱스 이름을 적절히 변경하세요\n",
    "\n",
    "# 인덱스를 닫습니다.\n",
    "es.indices.close(index=index_name)\n",
    "\n",
    "# 토크나이저를 포함한 설정에서 토크나이저를 제거합니다.\n",
    "tokenizer_settings = {\n",
    "    \"settings\": {\n",
    "        \"analysis\": {\n",
    "            \"tokenizer\": {\n",
    "                tokenizer_name_to_remove: None  # 토크나이저를 제거하려면 None으로 설정합니다.\n",
    "            }\n",
    "        }\n",
    "    }\n",
    "}\n",
    "\n",
    "# 설정 업데이트\n",
    "es.indices.put_settings(index=index_name, body=tokenizer_settings)\n",
    "\n",
    "# 인덱스를 다시 엽니다.\n",
    "es.indices.open(index=index_name)"
   ]
  },
  {
   "cell_type": "markdown",
   "metadata": {},
   "source": [
    "---\n",
    "\n",
    "## match all"
   ]
  },
  {
   "cell_type": "code",
   "execution_count": 98,
   "metadata": {},
   "outputs": [
    {
     "name": "stdout",
     "output_type": "stream",
     "text": [
      "{'시군구코드': 3000000, '지정년도': 2018, '지정번호': 43, '신청일자': 20171031, '지정일자': 20180119, '업소명': '신안촌', '소재지도로명': '서울특별시 종로구 사직로12길 8, (내자동,,153,154-1,155-1 (1층))', '소재지지번': '서울특별시 종로구 내자동  152번지  ,153,154-1,155-1 (1층)', '허가(신고)번호': '3000000-101-1986-06323', '업태명': '분식', '주된음식': '낙지, 홍어', '영업장면적(㎡)': 99.98, '행정동명': '사직동', '급수시설구분': '상수도전용', '소재지전화번호': '02 725 7744'}\n",
      "{'시군구코드': 3000000, '지정년도': 2018, '지정번호': 26, '신청일자': 20171031, '지정일자': 20180119, '업소명': '만가', '소재지도로명': '서울특별시 종로구 사직로 103-19, (필운동,(지상1층))', '소재지지번': '서울특별시 종로구 필운동  206번지  (지상1층)', '허가(신고)번호': '3000000-101-1991-06583', '업태명': '한식', '주된음식': '장어, 생등심', '영업장면적(㎡)': 110.0, '행정동명': '사직동', '급수시설구분': '상수도전용', '소재지전화번호': '02720 5797'}\n",
      "{'시군구코드': 3000000, '지정년도': 2016, '지정번호': 144, '신청일자': 20161004, '지정일자': 20161205, '업소명': '백제고기나라', '소재지도로명': '서울특별시 종로구 돈화문로11길 41, (낙원동,2층)', '소재지지번': '서울특별시 종로구 낙원동  136번지 0호  2층', '허가(신고)번호': '3000000-101-1974-05722', '업태명': '일식', '주된음식': '초밥', '영업장면적(㎡)': 167.05, '행정동명': '종로1.2.3.4가동', '급수시설구분': '상수도전용', '소재지전화번호': '02 7647733'}\n",
      "{'시군구코드': 3000000, '지정년도': 2016, '지정번호': 59, '신청일자': 20161007, '지정일자': 20161205, '업소명': '인사동두부마을', '소재지도로명': '서울특별시 종로구 인사동길 30-12, (관훈동)', '소재지지번': '서울특별시 종로구 관훈동  2번지 2호  ', '허가(신고)번호': '3000000-101-1994-00266', '업태명': '한식', '주된음식': '콩요리', '영업장면적(㎡)': 88.02, '행정동명': '종로1.2.3.4가동', '급수시설구분': '상수도전용', '소재지전화번호': '02 7359996'}\n",
      "{'시군구코드': 3000000, '지정년도': 2016, '지정번호': 70, '신청일자': 20161007, '지정일자': 20161205, '업소명': '청진옥', '소재지도로명': '서울특별시 종로구 종로3길 32, 1~4층 (청진동)', '소재지지번': '서울특별시 종로구 청진동  183번지 1호  ', '허가(신고)번호': '3000000-101-2016-00096', '업태명': '한식', '주된음식': '해장국', '영업장면적(㎡)': 426.92, '행정동명': '종로1.2.3.4가동', '급수시설구분': '상수도전용', '소재지전화번호': '02  735 1690'}\n",
      "{'시군구코드': 3000000, '지정년도': 2016, '지정번호': 13, '신청일자': 20161010, '지정일자': 20161205, '업소명': '양심(羊心)', '소재지도로명': '서울특별시 종로구 인사동8길 16-1, (관훈동)', '소재지지번': '서울특별시 종로구 관훈동  29번지  ', '허가(신고)번호': '3000000-101-1999-10882', '업태명': '한식', '주된음식': '한정식', '영업장면적(㎡)': 53.05, '행정동명': '종로1.2.3.4가동', '급수시설구분': '상수도전용', '소재지전화번호': '02 7302985'}\n",
      "{'시군구코드': 3000000, '지정년도': 2015, '지정번호': 46, '신청일자': 20150915, '지정일자': 20150915, '업소명': '명동칼국수', '소재지도로명': '서울특별시 종로구 사직로8길 42, (내수동)', '소재지지번': '서울특별시 종로구 내수동  74번지  ', '허가(신고)번호': '3000000-101-2004-00519', '업태명': '경양식', '주된음식': '태국음식', '영업장면적(㎡)': 94.8, '행정동명': '사직동', '급수시설구분': '상수도전용', '소재지전화번호': '02 733 3066'}\n",
      "{'시군구코드': 3000000, '지정년도': 2015, '지정번호': 61, '신청일자': 20150626, '지정일자': 20150915, '업소명': '일식 오수사', '소재지도로명': '서울특별시 종로구 사직로 130, (적선동,적선현대 지하1층 6호)', '소재지지번': '서울특별시 종로구 적선동  80번지  적선현대 지하1층 6호', '허가(신고)번호': '3000000-101-2008-00248', '업태명': '일식', '주된음식': '생선회', '영업장면적(㎡)': 60.0, '행정동명': '사직동', '급수시설구분': '상수도전용', '소재지전화번호': '02 722 0415'}\n",
      "{'시군구코드': 3000000, '지정년도': 2015, '지정번호': 10, '신청일자': 20140107, '지정일자': 20150915, '업소명': '남대문막내횟집', '소재지도로명': '서울특별시 종로구 우정국로 4-1, (관철동)', '소재지지번': '서울특별시 종로구 관철동  263번지 0호  ', '허가(신고)번호': '3000000-101-1967-03256', '업태명': '일식', '주된음식': '회', '영업장면적(㎡)': 91.78, '행정동명': '종로1.2.3.4가동', '급수시설구분': '상수도전용', '소재지전화번호': '02 7348653'}\n",
      "{'시군구코드': 3000000, '지정년도': 2015, '지정번호': 64, '신청일자': 20150626, '지정일자': 20150915, '업소명': '정선곤드레쌈밥', '소재지도로명': '서울특별시 종로구 평창문화로 152, 101,102,103호 (평창동, 평창동 안성타워)', '소재지지번': '서울특별시 종로구 평창동  66번지 72호  집합건물 101호, 102호, 103호', '허가(신고)번호': '3000000-101-1999-10523', '업태명': '한식', '주된음식': '쌈밥', '영업장면적(㎡)': 115.71, '행정동명': '평창동', '급수시설구분': '상수도전용', '소재지전화번호': '02 3795669'}\n"
     ]
    },
    {
     "name": "stderr",
     "output_type": "stream",
     "text": [
      "C:\\Users\\jieun\\AppData\\Local\\Temp\\ipykernel_63644\\1692958983.py:9: DeprecationWarning: The 'body' parameter is deprecated and will be removed in a future version. Instead use individual parameters.\n",
      "  search_results = es.search(index='서울시_종로구_모범음식점_지정_현황', body=query)\n",
      "c:\\Users\\jieun\\AppData\\Local\\Programs\\Python\\Python310\\lib\\site-packages\\urllib3\\connectionpool.py:1045: InsecureRequestWarning: Unverified HTTPS request is being made to host '172.16.204.158'. Adding certificate verification is strongly advised. See: https://urllib3.readthedocs.io/en/1.26.x/advanced-usage.html#ssl-warnings\n",
      "  warnings.warn(\n"
     ]
    }
   ],
   "source": [
    "# 검색할 쿼리 설정 (예: 모든 문서 검색)\n",
    "query = {\n",
    "    \"query\": {\n",
    "        \"match_all\": {}\n",
    "    }\n",
    "}\n",
    "\n",
    "# 인덱스에서 데이터 검색\n",
    "search_results = es.search(index='서울시_종로구_모범음식점_지정_현황', body=query)\n",
    "\n",
    "# 검색 결과 출력\n",
    "for hit in search_results['hits']['hits']:\n",
    "    print(hit['_source'])"
   ]
  },
  {
   "cell_type": "markdown",
   "metadata": {},
   "source": [
    "### just 토큰화"
   ]
  },
  {
   "cell_type": "code",
   "execution_count": 148,
   "metadata": {},
   "outputs": [
    {
     "name": "stdout",
     "output_type": "stream",
     "text": [
      "Nori 토큰화 결과: 서울특별시 / 종로구에 / 있는 / 맛있는 / 쌈밥집인데 / 정말 / 맛있다구\n"
     ]
    },
    {
     "name": "stderr",
     "output_type": "stream",
     "text": [
      "C:\\Users\\jieun\\AppData\\Local\\Temp\\ipykernel_63644\\753945645.py:5: DeprecationWarning: The 'body' parameter is deprecated and will be removed in a future version. Instead use individual parameters.\n",
      "  analysis_result = es.indices.analyze(index=index_name, body=analysis_request)\n",
      "c:\\Users\\jieun\\AppData\\Local\\Programs\\Python\\Python310\\lib\\site-packages\\urllib3\\connectionpool.py:1045: InsecureRequestWarning: Unverified HTTPS request is being made to host '172.16.204.158'. Adding certificate verification is strongly advised. See: https://urllib3.readthedocs.io/en/1.26.x/advanced-usage.html#ssl-warnings\n",
      "  warnings.warn(\n"
     ]
    }
   ],
   "source": [
    "analysis_request = {\n",
    "    \"text\": '서울특별시 종로구에 있는 맛있는 쌈밥집인데 정말 맛있다구'\n",
    "}\n",
    "\n",
    "analysis_result = es.indices.analyze(index=index_name, body=analysis_request)\n",
    "\n",
    "# 분석 결과 출력\n",
    "tokens = [token['token'] for token in analysis_result['tokens']]\n",
    "print(\"Nori 토큰화 결과:\", \" / \".join(tokens))\n",
    "# print(analysis_result['tokens'])\n"
   ]
  },
  {
   "cell_type": "markdown",
   "metadata": {},
   "source": [
    "## 쿼리문\n",
    "### multi match"
   ]
  },
  {
   "cell_type": "code",
   "execution_count": 6,
   "metadata": {},
   "outputs": [
    {
     "name": "stdout",
     "output_type": "stream",
     "text": [
      "MultiMatch(fields=['*'], query='종로')\n",
      "실시간도착_역정보 4.635003 {'SUBWAY_ID': 1001, 'STATN_ID': 1001000129, 'STATN_NM': '종로5가', '호선이름': '1호선'}\n",
      "실시간도착_역정보 4.635003 {'SUBWAY_ID': 1001, 'STATN_ID': 1001000130, 'STATN_NM': '종로3가', '호선이름': '1호선'}\n",
      "실시간도착_역정보 4.635003 {'SUBWAY_ID': 1003, 'STATN_ID': 1003000329, 'STATN_NM': '종로3가', '호선이름': '3호선'}\n",
      "실시간도착_역정보 4.635003 {'SUBWAY_ID': 1005, 'STATN_ID': 1005000534, 'STATN_NM': '종로3가', '호선이름': '5호선'}\n",
      "서울시_지하철_호선별_첫차와_막차_정보_전철역코드_외부코드 4.276704 {'호선': '05호선', '상/하행선': 2, '요일': 3, '전철역코드': 2535, '외부코드': '534', '전철역명': '종로3가', '첫차시간': 54730, '첫차출발역코드': 2531, '첫차도착역코드': 2561, '첫차출발역명': '애오개', '첫차도착역명': '마천', '막차시간': 235430, '막차출발역코드': 2511, '막차도착역코드': 2541, '막차출발역명': '방화', '막차도착역명': '왕십리'}\n",
      "서울시_지하철_호선별_첫차와_막차_정보_전철역코드_외부코드 4.276704 {'호선': '05호선', '상/하행선': 1, '요일': 2, '전철역코드': 2535, '외부코드': '534', '전철역명': '종로3가', '첫차시간': 54120, '첫차출발역코드': 2541, '첫차도착역코드': 2511, '첫차출발역명': '왕십리', '첫차도착역명': '방화', '막차시간': 235630, '막차출발역코드': 2561, '막차도착역코드': 2531, '막차출발역명': '마천', '막차도착역명': '애오개'}\n",
      "서울시_지하철_호선별_첫차와_막차_정보_전철역코드_외부코드 4.276704 {'호선': '03호선', '상/하행선': 1, '요일': 3, '전철역코드': 319, '외부코드': '329', '전철역명': '종로3가', '첫차시간': 53630, '첫차출발역코드': 323, '첫차도착역코드': 1958, '첫차출발역명': '약수', '첫차도착역명': '대화', '막차시간': 235730, '막차출발역코드': 342, '막차도착역코드': 316, '막차출발역명': '오금', '막차도착역명': '독립문'}\n",
      "서울시_지하철_호선별_첫차와_막차_정보_전철역코드_외부코드 4.276704 {'호선': '01호선', '상/하행선': 1, '요일': 1, '전철역코드': 153, '외부코드': '130', '전철역명': '종로3가', '첫차시간': 52700, '첫차출발역코드': 1701, '첫차도착역코드': 1915, '첫차출발역명': '구로', '첫차도착역명': '동두천', '막차시간': 245500, '막차출발역코드': 150, '막차도착역코드': 159, '막차출발역명': '서울역', '막차도착역명': '동묘앞'}\n",
      "서울시_지하철_호선별_첫차와_막차_정보_전철역코드_외부코드 4.276704 {'호선': '01호선', '상/하행선': 2, '요일': 3, '전철역코드': 154, '외부코드': '129', '전철역명': '종로5가', '첫차시간': 52130, '첫차출발역코드': 1019, '첫차도착역코드': 1812, '첫차출발역명': '광운대', '첫차도착역명': '인천', '막차시간': 235330, '막차출발역코드': 1909, '막차도착역코드': 1701, '막차출발역명': '양주', '막차도착역명': '구로'}\n",
      "서울시_지하철_호선별_첫차와_막차_정보_전철역코드_외부코드 4.276704 {'호선': '03호선', '상/하행선': 2, '요일': 2, '전철역코드': 319, '외부코드': '329', '전철역명': '종로3가', '첫차시간': 53630, '첫차출발역코드': 316, '첫차도착역코드': 342, '첫차출발역명': '독립문', '첫차도착역명': '오금', '막차시간': 235400, '막차출발역코드': 1958, '막차도착역코드': 323, '막차출발역명': '대화', '막차도착역명': '약수'}\n",
      "서울시_지하철_호선별_첫차와_막차_정보_전철역코드_외부코드 4.276704 {'호선': '01호선', '상/하행선': 1, '요일': 2, '전철역코드': 154, '외부코드': '129', '전철역명': '종로5가', '첫차시간': 52900, '첫차출발역코드': 1701, '첫차도착역코드': 1915, '첫차출발역명': '구로', '첫차도착역명': '동두천', '막차시간': 240630, '막차출발역코드': 1812, '막차도착역코드': 159, '막차출발역명': '인천', '막차도착역명': '동묘앞'}\n",
      "서울시_지하철_호선별_첫차와_막차_정보_전철역코드_외부코드 4.276704 {'호선': '05호선', '상/하행선': 1, '요일': 1, '전철역코드': 2535, '외부코드': '534', '전철역명': '종로3가', '첫차시간': 54120, '첫차출발역코드': 2541, '첫차도착역코드': 2511, '첫차출발역명': '왕십리', '첫차도착역명': '방화', '막차시간': 245310, '막차출발역코드': 2566, '막차도착역코드': 2531, '막차출발역명': '하남검단산', '막차도착역명': '애오개'}\n",
      "서울시_지하철_호선별_첫차와_막차_정보_전철역코드_외부코드 4.276704 {'호선': '01호선', '상/하행선': 1, '요일': 2, '전철역코드': 153, '외부코드': '130', '전철역명': '종로3가', '첫차시간': 52700, '첫차출발역코드': 1701, '첫차도착역코드': 1915, '첫차출발역명': '구로', '첫차도착역명': '동두천', '막차시간': 240430, '막차출발역코드': 1812, '막차도착역코드': 159, '막차출발역명': '인천', '막차도착역명': '동묘앞'}\n",
      "서울시_지하철_호선별_첫차와_막차_정보_전철역코드_외부코드 4.276704 {'호선': '03호선', '상/하행선': 2, '요일': 1, '전철역코드': 319, '외부코드': '329', '전철역명': '종로3가', '첫차시간': 53630, '첫차출발역코드': 316, '첫차도착역코드': 342, '첫차출발역명': '독립문', '첫차도착역명': '오금', '막차시간': 245400, '막차출발역코드': 1958, '막차도착역코드': 323, '막차출발역명': '대화', '막차도착역명': '약수'}\n",
      "서울시_지하철_호선별_첫차와_막차_정보_전철역코드_외부코드 4.276704 {'호선': '01호선', '상/하행선': 1, '요일': 1, '전철역코드': 154, '외부코드': '129', '전철역명': '종로5가', '첫차시간': 52900, '첫차출발역코드': 1701, '첫차도착역코드': 1915, '첫차출발역명': '구로', '첫차도착역명': '동두천', '막차시간': 245700, '막차출발역코드': 150, '막차도착역코드': 159, '막차출발역명': '서울역', '막차도착역명': '동묘앞'}\n",
      "서울시_지하철_호선별_첫차와_막차_정보_전철역코드_외부코드 4.276704 {'호선': '01호선', '상/하행선': 2, '요일': 3, '전철역코드': 153, '외부코드': '130', '전철역명': '종로3가', '첫차시간': 52330, '첫차출발역코드': 1019, '첫차도착역코드': 1812, '첫차출발역명': '광운대', '첫차도착역명': '인천', '막차시간': 235530, '막차출발역코드': 1909, '막차도착역코드': 1701, '막차출발역명': '양주', '막차도착역명': '구로'}\n",
      "서울시_지하철_호선별_첫차와_막차_정보_전철역코드_외부코드 4.276704 {'호선': '01호선', '상/하행선': 1, '요일': 3, '전철역코드': 154, '외부코드': '129', '전철역명': '종로5가', '첫차시간': 52900, '첫차출발역코드': 1701, '첫차도착역코드': 1915, '첫차출발역명': '구로', '첫차도착역명': '동두천', '막차시간': 240630, '막차출발역코드': 1812, '막차도착역코드': 159, '막차출발역명': '인천', '막차도착역명': '동묘앞'}\n",
      "서울시_지하철_호선별_첫차와_막차_정보_전철역코드_외부코드 4.276704 {'호선': '01호선', '상/하행선': 2, '요일': 1, '전철역코드': 153, '외부코드': '130', '전철역명': '종로3가', '첫차시간': 52330, '첫차출발역코드': 1019, '첫차도착역코드': 1812, '첫차출발역명': '광운대', '첫차도착역명': '인천', '막차시간': 245330, '막차출발역코드': 158, '막차도착역코드': 150, '막차출발역명': '청량리', '막차도착역명': '서울역'}\n",
      "서울시_지하철_호선별_첫차와_막차_정보_전철역코드_외부코드 4.276704 {'호선': '03호선', '상/하행선': 2, '요일': 3, '전철역코드': 319, '외부코드': '329', '전철역명': '종로3가', '첫차시간': 53630, '첫차출발역코드': 316, '첫차도착역코드': 342, '첫차출발역명': '독립문', '첫차도착역명': '오금', '막차시간': 235400, '막차출발역코드': 1958, '막차도착역코드': 323, '막차출발역명': '대화', '막차도착역명': '약수'}\n",
      "서울시_지하철_호선별_첫차와_막차_정보_전철역코드_외부코드 4.276704 {'호선': '01호선', '상/하행선': 2, '요일': 2, '전철역코드': 154, '외부코드': '129', '전철역명': '종로5가', '첫차시간': 52130, '첫차출발역코드': 1019, '첫차도착역코드': 1812, '첫차출발역명': '광운대', '첫차도착역명': '인천', '막차시간': 235330, '막차출발역코드': 1909, '막차도착역코드': 1701, '막차출발역명': '양주', '막차도착역명': '구로'}\n",
      "20\n"
     ]
    },
    {
     "name": "stderr",
     "output_type": "stream",
     "text": [
      "c:\\Users\\jieun\\AppData\\Local\\Programs\\Python\\Python310\\lib\\site-packages\\urllib3\\connectionpool.py:1045: InsecureRequestWarning: Unverified HTTPS request is being made to host '172.16.204.158'. Adding certificate verification is strongly advised. See: https://urllib3.readthedocs.io/en/1.26.x/advanced-usage.html#ssl-warnings\n",
      "  warnings.warn(\n"
     ]
    }
   ],
   "source": [
    "from elasticsearch_dsl import Search, Q\n",
    "\n",
    "# 모든 필드에서 일치하는 문서 검색\n",
    "query = Q(\"multi_match\", query=\"종로\", fields=[\"*\"])\n",
    "print(query)\n",
    "\n",
    "# 검색 질의 생성\n",
    "s = Search(using=es, index=['*'])\n",
    "s = s.query(query)\n",
    "s = s.extra(size=20)\n",
    "\n",
    "# 결과 가져오기\n",
    "response = s.execute()\n",
    "\n",
    "# 검색 결과 출력\n",
    "k = 0\n",
    "for hit in response:\n",
    "    k = k + 1\n",
    "    print(hit.meta.index, hit.meta.score, hit.to_dict())\n",
    "print(k)"
   ]
  },
  {
   "cell_type": "code",
   "execution_count": 7,
   "metadata": {},
   "outputs": [
    {
     "data": {
      "text/plain": [
       "<Response: [<Hit(실시간도착_역정보/0ipCfooBCuFcPWlmZ-r_): {'SUBWAY_ID': 1001, 'STATN_ID': 1001000129, 'STATN_NM': '종로5...}>, <Hit(실시간도착_역정보/0ypCfooBCuFcPWlmZ-r_): {'SUBWAY_ID': 1001, 'STATN_ID': 1001000130, 'STATN_NM': '종로3...}>, <Hit(실시간도착_역정보/XypCfooBCuFcPWlmaOsA): {'SUBWAY_ID': 1003, 'STATN_ID': 1003000329, 'STATN_NM': '종로3...}>, <Hit(실시간도착_역정보/vypCfooBCuFcPWlmaOsA): {'SUBWAY_ID': 1005, 'STATN_ID': 1005000534, 'STATN_NM': '종로3...}>, <Hit(서울시_지하철_호선별_첫차와_막차_정보_전철역코드_외부코드/PSpCfooBCuFcPWlm3O6u): {'호선': '05호선', '상/하행선': 2, '요일': 3, '전철역코드': 2535, '외부코드': '...}>, <Hit(서울시_지하철_호선별_첫차와_막차_정보_전철역코드_외부코드/ZypCfooBCuFcPWlm3O6u): {'호선': '05호선', '상/하행선': 1, '요일': 2, '전철역코드': 2535, '외부코드': '...}>, <Hit(서울시_지하철_호선별_첫차와_막차_정보_전철역코드_외부코드/gSpCfooBCuFcPWlm3O6u): {'호선': '03호선', '상/하행선': 1, '요일': 3, '전철역코드': 319, '외부코드': '3...}>, <Hit(서울시_지하철_호선별_첫차와_막차_정보_전철역코드_외부코드/kCpCfooBCuFcPWlm3O6u): {'호선': '01호선', '상/하행선': 1, '요일': 1, '전철역코드': 153, '외부코드': '1...}>, <Hit(서울시_지하철_호선별_첫차와_막차_정보_전철역코드_외부코드/oCpCfooBCuFcPWlm3O6u): {'호선': '01호선', '상/하행선': 2, '요일': 3, '전철역코드': 154, '외부코드': '1...}>, <Hit(서울시_지하철_호선별_첫차와_막차_정보_전철역코드_외부코드/rCpCfooBCuFcPWlm3O6u): {'호선': '03호선', '상/하행선': 2, '요일': 2, '전철역코드': 319, '외부코드': '3...}>, <Hit(서울시_지하철_호선별_첫차와_막차_정보_전철역코드_외부코드/xypCfooBCuFcPWlm3O6u): {'호선': '01호선', '상/하행선': 1, '요일': 2, '전철역코드': 154, '외부코드': '1...}>, <Hit(서울시_지하철_호선별_첫차와_막차_정보_전철역코드_외부코드/cCpCfooBCuFcPWlm3fAc): {'호선': '05호선', '상/하행선': 1, '요일': 1, '전철역코드': 2535, '외부코드': '...}>, <Hit(서울시_지하철_호선별_첫차와_막차_정보_전철역코드_외부코드/4CpCfooBCuFcPWlm3fGM): {'호선': '01호선', '상/하행선': 1, '요일': 2, '전철역코드': 153, '외부코드': '1...}>, <Hit(서울시_지하철_호선별_첫차와_막차_정보_전철역코드_외부코드/8ypCfooBCuFcPWlm3fGM): {'호선': '03호선', '상/하행선': 2, '요일': 1, '전철역코드': 319, '외부코드': '3...}>, <Hit(서울시_지하철_호선별_첫차와_막차_정보_전철역코드_외부코드/CCpCfooBCuFcPWlm3fKM): {'호선': '01호선', '상/하행선': 1, '요일': 1, '전철역코드': 154, '외부코드': '1...}>, <Hit(서울시_지하철_호선별_첫차와_막차_정보_전철역코드_외부코드/FypCfooBCuFcPWlm3fKM): {'호선': '01호선', '상/하행선': 2, '요일': 3, '전철역코드': 153, '외부코드': '1...}>, <Hit(서울시_지하철_호선별_첫차와_막차_정보_전철역코드_외부코드/bCpCfooBCuFcPWlm3fKM): {'호선': '01호선', '상/하행선': 1, '요일': 3, '전철역코드': 154, '외부코드': '1...}>, <Hit(서울시_지하철_호선별_첫차와_막차_정보_전철역코드_외부코드/fSpCfooBCuFcPWlm3fKM): {'호선': '01호선', '상/하행선': 2, '요일': 1, '전철역코드': 153, '외부코드': '1...}>, <Hit(서울시_지하철_호선별_첫차와_막차_정보_전철역코드_외부코드/jCpCfooBCuFcPWlm3fKM): {'호선': '03호선', '상/하행선': 2, '요일': 3, '전철역코드': 319, '외부코드': '3...}>, <Hit(서울시_지하철_호선별_첫차와_막차_정보_전철역코드_외부코드/oypCfooBCuFcPWlm3fKM): {'호선': '01호선', '상/하행선': 2, '요일': 2, '전철역코드': 154, '외부코드': '1...}>]>"
      ]
     },
     "execution_count": 7,
     "metadata": {},
     "output_type": "execute_result"
    }
   ],
   "source": [
    "response"
   ]
  },
  {
   "cell_type": "code",
   "execution_count": 8,
   "metadata": {},
   "outputs": [
    {
     "name": "stderr",
     "output_type": "stream",
     "text": [
      "c:\\Users\\jieun\\AppData\\Local\\Programs\\Python\\Python310\\lib\\site-packages\\transformers\\generation\\utils.py:1417: UserWarning: You have modified the pretrained model configuration to control generation. This is a deprecated strategy to control generation and will be removed soon, in a future version. Please use a generation configuration file (see https://huggingface.co/docs/transformers/main_classes/text_generation )\n",
      "  warnings.warn(\n",
      "Setting `pad_token_id` to `eos_token_id`:2 for open-end generation.\n"
     ]
    },
    {
     "ename": "KeyboardInterrupt",
     "evalue": "",
     "output_type": "error",
     "traceback": [
      "\u001b[1;31m---------------------------------------------------------------------------\u001b[0m",
      "\u001b[1;31mKeyboardInterrupt\u001b[0m                         Traceback (most recent call last)",
      "\u001b[1;32mc:\\Users\\jieun\\Desktop\\project\\elastic\\code\\token_save2.ipynb Cell 30\u001b[0m line \u001b[0;36m2\n\u001b[0;32m      <a href='vscode-notebook-cell:/c%3A/Users/jieun/Desktop/project/elastic/code/token_save2.ipynb#Y100sZmlsZQ%3D%3D?line=0'>1</a>\u001b[0m q \u001b[39m=\u001b[39m \u001b[39mf\u001b[39m\u001b[39m\"\u001b[39m\u001b[39m{\u001b[39;00mresponse\u001b[39m}\u001b[39;00m\u001b[39m정보를 요약 후 종로구에 대해 설명해줘\u001b[39m\u001b[39m\"\u001b[39m\n\u001b[1;32m----> <a href='vscode-notebook-cell:/c%3A/Users/jieun/Desktop/project/elastic/code/token_save2.ipynb#Y100sZmlsZQ%3D%3D?line=1'>2</a>\u001b[0m ask(q)\n",
      "\u001b[1;32mc:\\Users\\jieun\\Desktop\\project\\elastic\\code\\token_save2.ipynb Cell 30\u001b[0m line \u001b[0;36m2\n\u001b[0;32m     <a href='vscode-notebook-cell:/c%3A/Users/jieun/Desktop/project/elastic/code/token_save2.ipynb#Y100sZmlsZQ%3D%3D?line=19'>20</a>\u001b[0m \u001b[39mdef\u001b[39;00m \u001b[39mask\u001b[39m(x, context\u001b[39m=\u001b[39m\u001b[39m'\u001b[39m\u001b[39m'\u001b[39m, is_input_full\u001b[39m=\u001b[39m\u001b[39mFalse\u001b[39;00m):\n\u001b[1;32m---> <a href='vscode-notebook-cell:/c%3A/Users/jieun/Desktop/project/elastic/code/token_save2.ipynb#Y100sZmlsZQ%3D%3D?line=20'>21</a>\u001b[0m     ans \u001b[39m=\u001b[39m pipe(\n\u001b[0;32m     <a href='vscode-notebook-cell:/c%3A/Users/jieun/Desktop/project/elastic/code/token_save2.ipynb#Y100sZmlsZQ%3D%3D?line=21'>22</a>\u001b[0m         \u001b[39mf\u001b[39;49m\u001b[39m\"\u001b[39;49m\u001b[39m### 질문: \u001b[39;49m\u001b[39m{\u001b[39;49;00mx\u001b[39m}\u001b[39;49;00m\u001b[39m\\n\u001b[39;49;00m\u001b[39m\\n\u001b[39;49;00m\u001b[39m### 맥락: \u001b[39;49m\u001b[39m{\u001b[39;49;00mcontext\u001b[39m}\u001b[39;49;00m\u001b[39m\\n\u001b[39;49;00m\u001b[39m\\n\u001b[39;49;00m\u001b[39m### 답변:\u001b[39;49m\u001b[39m\"\u001b[39;49m \u001b[39mif\u001b[39;49;00m context \u001b[39melse\u001b[39;49;00m \u001b[39mf\u001b[39;49m\u001b[39m\"\u001b[39;49m\u001b[39m### 질문: \u001b[39;49m\u001b[39m{\u001b[39;49;00mx\u001b[39m}\u001b[39;49;00m\u001b[39m\\n\u001b[39;49;00m\u001b[39m\\n\u001b[39;49;00m\u001b[39m### 답변:\u001b[39;49m\u001b[39m\"\u001b[39;49m, \n\u001b[0;32m     <a href='vscode-notebook-cell:/c%3A/Users/jieun/Desktop/project/elastic/code/token_save2.ipynb#Y100sZmlsZQ%3D%3D?line=22'>23</a>\u001b[0m         do_sample\u001b[39m=\u001b[39;49m\u001b[39mTrue\u001b[39;49;00m, \n\u001b[0;32m     <a href='vscode-notebook-cell:/c%3A/Users/jieun/Desktop/project/elastic/code/token_save2.ipynb#Y100sZmlsZQ%3D%3D?line=23'>24</a>\u001b[0m         max_new_tokens\u001b[39m=\u001b[39;49m\u001b[39m512\u001b[39;49m,\n\u001b[0;32m     <a href='vscode-notebook-cell:/c%3A/Users/jieun/Desktop/project/elastic/code/token_save2.ipynb#Y100sZmlsZQ%3D%3D?line=24'>25</a>\u001b[0m         temperature\u001b[39m=\u001b[39;49m\u001b[39m0.7\u001b[39;49m,\n\u001b[0;32m     <a href='vscode-notebook-cell:/c%3A/Users/jieun/Desktop/project/elastic/code/token_save2.ipynb#Y100sZmlsZQ%3D%3D?line=25'>26</a>\u001b[0m         top_p\u001b[39m=\u001b[39;49m\u001b[39m0.9\u001b[39;49m,\n\u001b[0;32m     <a href='vscode-notebook-cell:/c%3A/Users/jieun/Desktop/project/elastic/code/token_save2.ipynb#Y100sZmlsZQ%3D%3D?line=26'>27</a>\u001b[0m         return_full_text\u001b[39m=\u001b[39;49m\u001b[39mFalse\u001b[39;49;00m,\n\u001b[0;32m     <a href='vscode-notebook-cell:/c%3A/Users/jieun/Desktop/project/elastic/code/token_save2.ipynb#Y100sZmlsZQ%3D%3D?line=27'>28</a>\u001b[0m         eos_token_id\u001b[39m=\u001b[39;49m\u001b[39m2\u001b[39;49m,\n\u001b[0;32m     <a href='vscode-notebook-cell:/c%3A/Users/jieun/Desktop/project/elastic/code/token_save2.ipynb#Y100sZmlsZQ%3D%3D?line=28'>29</a>\u001b[0m     )\n\u001b[0;32m     <a href='vscode-notebook-cell:/c%3A/Users/jieun/Desktop/project/elastic/code/token_save2.ipynb#Y100sZmlsZQ%3D%3D?line=29'>30</a>\u001b[0m     \u001b[39mprint\u001b[39m(ans[\u001b[39m0\u001b[39m][\u001b[39m'\u001b[39m\u001b[39mgenerated_text\u001b[39m\u001b[39m'\u001b[39m])\n",
      "File \u001b[1;32mc:\\Users\\jieun\\AppData\\Local\\Programs\\Python\\Python310\\lib\\site-packages\\transformers\\pipelines\\text_generation.py:205\u001b[0m, in \u001b[0;36mTextGenerationPipeline.__call__\u001b[1;34m(self, text_inputs, **kwargs)\u001b[0m\n\u001b[0;32m    164\u001b[0m \u001b[39mdef\u001b[39;00m \u001b[39m__call__\u001b[39m(\u001b[39mself\u001b[39m, text_inputs, \u001b[39m*\u001b[39m\u001b[39m*\u001b[39mkwargs):\n\u001b[0;32m    165\u001b[0m     \u001b[39m\"\"\"\u001b[39;00m\n\u001b[0;32m    166\u001b[0m \u001b[39m    Complete the prompt(s) given as inputs.\u001b[39;00m\n\u001b[0;32m    167\u001b[0m \n\u001b[1;32m   (...)\u001b[0m\n\u001b[0;32m    203\u001b[0m \u001b[39m          ids of the generated text.\u001b[39;00m\n\u001b[0;32m    204\u001b[0m \u001b[39m    \"\"\"\u001b[39;00m\n\u001b[1;32m--> 205\u001b[0m     \u001b[39mreturn\u001b[39;00m \u001b[39msuper\u001b[39m()\u001b[39m.\u001b[39m\u001b[39m__call__\u001b[39m(text_inputs, \u001b[39m*\u001b[39m\u001b[39m*\u001b[39mkwargs)\n",
      "File \u001b[1;32mc:\\Users\\jieun\\AppData\\Local\\Programs\\Python\\Python310\\lib\\site-packages\\transformers\\pipelines\\base.py:1140\u001b[0m, in \u001b[0;36mPipeline.__call__\u001b[1;34m(self, inputs, num_workers, batch_size, *args, **kwargs)\u001b[0m\n\u001b[0;32m   1132\u001b[0m     \u001b[39mreturn\u001b[39;00m \u001b[39mnext\u001b[39m(\n\u001b[0;32m   1133\u001b[0m         \u001b[39miter\u001b[39m(\n\u001b[0;32m   1134\u001b[0m             \u001b[39mself\u001b[39m\u001b[39m.\u001b[39mget_iterator(\n\u001b[1;32m   (...)\u001b[0m\n\u001b[0;32m   1137\u001b[0m         )\n\u001b[0;32m   1138\u001b[0m     )\n\u001b[0;32m   1139\u001b[0m \u001b[39melse\u001b[39;00m:\n\u001b[1;32m-> 1140\u001b[0m     \u001b[39mreturn\u001b[39;00m \u001b[39mself\u001b[39;49m\u001b[39m.\u001b[39;49mrun_single(inputs, preprocess_params, forward_params, postprocess_params)\n",
      "File \u001b[1;32mc:\\Users\\jieun\\AppData\\Local\\Programs\\Python\\Python310\\lib\\site-packages\\transformers\\pipelines\\base.py:1147\u001b[0m, in \u001b[0;36mPipeline.run_single\u001b[1;34m(self, inputs, preprocess_params, forward_params, postprocess_params)\u001b[0m\n\u001b[0;32m   1145\u001b[0m \u001b[39mdef\u001b[39;00m \u001b[39mrun_single\u001b[39m(\u001b[39mself\u001b[39m, inputs, preprocess_params, forward_params, postprocess_params):\n\u001b[0;32m   1146\u001b[0m     model_inputs \u001b[39m=\u001b[39m \u001b[39mself\u001b[39m\u001b[39m.\u001b[39mpreprocess(inputs, \u001b[39m*\u001b[39m\u001b[39m*\u001b[39mpreprocess_params)\n\u001b[1;32m-> 1147\u001b[0m     model_outputs \u001b[39m=\u001b[39m \u001b[39mself\u001b[39m\u001b[39m.\u001b[39mforward(model_inputs, \u001b[39m*\u001b[39m\u001b[39m*\u001b[39mforward_params)\n\u001b[0;32m   1148\u001b[0m     outputs \u001b[39m=\u001b[39m \u001b[39mself\u001b[39m\u001b[39m.\u001b[39mpostprocess(model_outputs, \u001b[39m*\u001b[39m\u001b[39m*\u001b[39mpostprocess_params)\n\u001b[0;32m   1149\u001b[0m     \u001b[39mreturn\u001b[39;00m outputs\n",
      "File \u001b[1;32mc:\\Users\\jieun\\AppData\\Local\\Programs\\Python\\Python310\\lib\\site-packages\\transformers\\pipelines\\base.py:1046\u001b[0m, in \u001b[0;36mPipeline.forward\u001b[1;34m(self, model_inputs, **forward_params)\u001b[0m\n\u001b[0;32m   1044\u001b[0m     \u001b[39mwith\u001b[39;00m inference_context():\n\u001b[0;32m   1045\u001b[0m         model_inputs \u001b[39m=\u001b[39m \u001b[39mself\u001b[39m\u001b[39m.\u001b[39m_ensure_tensor_on_device(model_inputs, device\u001b[39m=\u001b[39m\u001b[39mself\u001b[39m\u001b[39m.\u001b[39mdevice)\n\u001b[1;32m-> 1046\u001b[0m         model_outputs \u001b[39m=\u001b[39m \u001b[39mself\u001b[39m\u001b[39m.\u001b[39m_forward(model_inputs, \u001b[39m*\u001b[39m\u001b[39m*\u001b[39mforward_params)\n\u001b[0;32m   1047\u001b[0m         model_outputs \u001b[39m=\u001b[39m \u001b[39mself\u001b[39m\u001b[39m.\u001b[39m_ensure_tensor_on_device(model_outputs, device\u001b[39m=\u001b[39mtorch\u001b[39m.\u001b[39mdevice(\u001b[39m\"\u001b[39m\u001b[39mcpu\u001b[39m\u001b[39m\"\u001b[39m))\n\u001b[0;32m   1048\u001b[0m \u001b[39melse\u001b[39;00m:\n",
      "File \u001b[1;32mc:\\Users\\jieun\\AppData\\Local\\Programs\\Python\\Python310\\lib\\site-packages\\transformers\\pipelines\\text_generation.py:268\u001b[0m, in \u001b[0;36mTextGenerationPipeline._forward\u001b[1;34m(self, model_inputs, **generate_kwargs)\u001b[0m\n\u001b[0;32m    265\u001b[0m         generate_kwargs[\u001b[39m\"\u001b[39m\u001b[39mmin_length\u001b[39m\u001b[39m\"\u001b[39m] \u001b[39m+\u001b[39m\u001b[39m=\u001b[39m prefix_length\n\u001b[0;32m    267\u001b[0m \u001b[39m# BS x SL\u001b[39;00m\n\u001b[1;32m--> 268\u001b[0m generated_sequence \u001b[39m=\u001b[39m \u001b[39mself\u001b[39m\u001b[39m.\u001b[39mmodel\u001b[39m.\u001b[39mgenerate(input_ids\u001b[39m=\u001b[39minput_ids, attention_mask\u001b[39m=\u001b[39mattention_mask, \u001b[39m*\u001b[39m\u001b[39m*\u001b[39mgenerate_kwargs)\n\u001b[0;32m    269\u001b[0m out_b \u001b[39m=\u001b[39m generated_sequence\u001b[39m.\u001b[39mshape[\u001b[39m0\u001b[39m]\n\u001b[0;32m    270\u001b[0m \u001b[39mif\u001b[39;00m \u001b[39mself\u001b[39m\u001b[39m.\u001b[39mframework \u001b[39m==\u001b[39m \u001b[39m\"\u001b[39m\u001b[39mpt\u001b[39m\u001b[39m\"\u001b[39m:\n",
      "File \u001b[1;32mc:\\Users\\jieun\\AppData\\Local\\Programs\\Python\\Python310\\lib\\site-packages\\torch\\utils\\_contextlib.py:115\u001b[0m, in \u001b[0;36mcontext_decorator.<locals>.decorate_context\u001b[1;34m(*args, **kwargs)\u001b[0m\n\u001b[0;32m    112\u001b[0m \u001b[39m@functools\u001b[39m\u001b[39m.\u001b[39mwraps(func)\n\u001b[0;32m    113\u001b[0m \u001b[39mdef\u001b[39;00m \u001b[39mdecorate_context\u001b[39m(\u001b[39m*\u001b[39margs, \u001b[39m*\u001b[39m\u001b[39m*\u001b[39mkwargs):\n\u001b[0;32m    114\u001b[0m     \u001b[39mwith\u001b[39;00m ctx_factory():\n\u001b[1;32m--> 115\u001b[0m         \u001b[39mreturn\u001b[39;00m func(\u001b[39m*\u001b[39margs, \u001b[39m*\u001b[39m\u001b[39m*\u001b[39mkwargs)\n",
      "File \u001b[1;32mc:\\Users\\jieun\\AppData\\Local\\Programs\\Python\\Python310\\lib\\site-packages\\transformers\\generation\\utils.py:1648\u001b[0m, in \u001b[0;36mGenerationMixin.generate\u001b[1;34m(self, inputs, generation_config, logits_processor, stopping_criteria, prefix_allowed_tokens_fn, synced_gpus, assistant_model, streamer, negative_prompt_ids, negative_prompt_attention_mask, **kwargs)\u001b[0m\n\u001b[0;32m   1640\u001b[0m     input_ids, model_kwargs \u001b[39m=\u001b[39m \u001b[39mself\u001b[39m\u001b[39m.\u001b[39m_expand_inputs_for_generation(\n\u001b[0;32m   1641\u001b[0m         input_ids\u001b[39m=\u001b[39minput_ids,\n\u001b[0;32m   1642\u001b[0m         expand_size\u001b[39m=\u001b[39mgeneration_config\u001b[39m.\u001b[39mnum_return_sequences,\n\u001b[0;32m   1643\u001b[0m         is_encoder_decoder\u001b[39m=\u001b[39m\u001b[39mself\u001b[39m\u001b[39m.\u001b[39mconfig\u001b[39m.\u001b[39mis_encoder_decoder,\n\u001b[0;32m   1644\u001b[0m         \u001b[39m*\u001b[39m\u001b[39m*\u001b[39mmodel_kwargs,\n\u001b[0;32m   1645\u001b[0m     )\n\u001b[0;32m   1647\u001b[0m     \u001b[39m# 13. run sample\u001b[39;00m\n\u001b[1;32m-> 1648\u001b[0m     \u001b[39mreturn\u001b[39;00m \u001b[39mself\u001b[39m\u001b[39m.\u001b[39msample(\n\u001b[0;32m   1649\u001b[0m         input_ids,\n\u001b[0;32m   1650\u001b[0m         logits_processor\u001b[39m=\u001b[39mlogits_processor,\n\u001b[0;32m   1651\u001b[0m         logits_warper\u001b[39m=\u001b[39mlogits_warper,\n\u001b[0;32m   1652\u001b[0m         stopping_criteria\u001b[39m=\u001b[39mstopping_criteria,\n\u001b[0;32m   1653\u001b[0m         pad_token_id\u001b[39m=\u001b[39mgeneration_config\u001b[39m.\u001b[39mpad_token_id,\n\u001b[0;32m   1654\u001b[0m         eos_token_id\u001b[39m=\u001b[39mgeneration_config\u001b[39m.\u001b[39meos_token_id,\n\u001b[0;32m   1655\u001b[0m         output_scores\u001b[39m=\u001b[39mgeneration_config\u001b[39m.\u001b[39moutput_scores,\n\u001b[0;32m   1656\u001b[0m         return_dict_in_generate\u001b[39m=\u001b[39mgeneration_config\u001b[39m.\u001b[39mreturn_dict_in_generate,\n\u001b[0;32m   1657\u001b[0m         synced_gpus\u001b[39m=\u001b[39msynced_gpus,\n\u001b[0;32m   1658\u001b[0m         streamer\u001b[39m=\u001b[39mstreamer,\n\u001b[0;32m   1659\u001b[0m         \u001b[39m*\u001b[39m\u001b[39m*\u001b[39mmodel_kwargs,\n\u001b[0;32m   1660\u001b[0m     )\n\u001b[0;32m   1662\u001b[0m \u001b[39melif\u001b[39;00m generation_mode \u001b[39m==\u001b[39m GenerationMode\u001b[39m.\u001b[39mBEAM_SEARCH:\n\u001b[0;32m   1663\u001b[0m     \u001b[39m# 11. prepare beam search scorer\u001b[39;00m\n\u001b[0;32m   1664\u001b[0m     beam_scorer \u001b[39m=\u001b[39m BeamSearchScorer(\n\u001b[0;32m   1665\u001b[0m         batch_size\u001b[39m=\u001b[39mbatch_size,\n\u001b[0;32m   1666\u001b[0m         num_beams\u001b[39m=\u001b[39mgeneration_config\u001b[39m.\u001b[39mnum_beams,\n\u001b[1;32m   (...)\u001b[0m\n\u001b[0;32m   1671\u001b[0m         max_length\u001b[39m=\u001b[39mgeneration_config\u001b[39m.\u001b[39mmax_length,\n\u001b[0;32m   1672\u001b[0m     )\n",
      "File \u001b[1;32mc:\\Users\\jieun\\AppData\\Local\\Programs\\Python\\Python310\\lib\\site-packages\\transformers\\generation\\utils.py:2730\u001b[0m, in \u001b[0;36mGenerationMixin.sample\u001b[1;34m(self, input_ids, logits_processor, stopping_criteria, logits_warper, max_length, pad_token_id, eos_token_id, output_attentions, output_hidden_states, output_scores, return_dict_in_generate, synced_gpus, streamer, **model_kwargs)\u001b[0m\n\u001b[0;32m   2727\u001b[0m model_inputs \u001b[39m=\u001b[39m \u001b[39mself\u001b[39m\u001b[39m.\u001b[39mprepare_inputs_for_generation(input_ids, \u001b[39m*\u001b[39m\u001b[39m*\u001b[39mmodel_kwargs)\n\u001b[0;32m   2729\u001b[0m \u001b[39m# forward pass to get next token\u001b[39;00m\n\u001b[1;32m-> 2730\u001b[0m outputs \u001b[39m=\u001b[39m \u001b[39mself\u001b[39m(\n\u001b[0;32m   2731\u001b[0m     \u001b[39m*\u001b[39m\u001b[39m*\u001b[39mmodel_inputs,\n\u001b[0;32m   2732\u001b[0m     return_dict\u001b[39m=\u001b[39m\u001b[39mTrue\u001b[39;00m,\n\u001b[0;32m   2733\u001b[0m     output_attentions\u001b[39m=\u001b[39moutput_attentions,\n\u001b[0;32m   2734\u001b[0m     output_hidden_states\u001b[39m=\u001b[39moutput_hidden_states,\n\u001b[0;32m   2735\u001b[0m )\n\u001b[0;32m   2737\u001b[0m \u001b[39mif\u001b[39;00m synced_gpus \u001b[39mand\u001b[39;00m this_peer_finished:\n\u001b[0;32m   2738\u001b[0m     \u001b[39mcontinue\u001b[39;00m  \u001b[39m# don't waste resources running the code we don't need\u001b[39;00m\n",
      "File \u001b[1;32mc:\\Users\\jieun\\AppData\\Local\\Programs\\Python\\Python310\\lib\\site-packages\\torch\\nn\\modules\\module.py:1501\u001b[0m, in \u001b[0;36mModule._call_impl\u001b[1;34m(self, *args, **kwargs)\u001b[0m\n\u001b[0;32m   1496\u001b[0m \u001b[39m# If we don't have any hooks, we want to skip the rest of the logic in\u001b[39;00m\n\u001b[0;32m   1497\u001b[0m \u001b[39m# this function, and just call forward.\u001b[39;00m\n\u001b[0;32m   1498\u001b[0m \u001b[39mif\u001b[39;00m \u001b[39mnot\u001b[39;00m (\u001b[39mself\u001b[39m\u001b[39m.\u001b[39m_backward_hooks \u001b[39mor\u001b[39;00m \u001b[39mself\u001b[39m\u001b[39m.\u001b[39m_backward_pre_hooks \u001b[39mor\u001b[39;00m \u001b[39mself\u001b[39m\u001b[39m.\u001b[39m_forward_hooks \u001b[39mor\u001b[39;00m \u001b[39mself\u001b[39m\u001b[39m.\u001b[39m_forward_pre_hooks\n\u001b[0;32m   1499\u001b[0m         \u001b[39mor\u001b[39;00m _global_backward_pre_hooks \u001b[39mor\u001b[39;00m _global_backward_hooks\n\u001b[0;32m   1500\u001b[0m         \u001b[39mor\u001b[39;00m _global_forward_hooks \u001b[39mor\u001b[39;00m _global_forward_pre_hooks):\n\u001b[1;32m-> 1501\u001b[0m     \u001b[39mreturn\u001b[39;00m forward_call(\u001b[39m*\u001b[39margs, \u001b[39m*\u001b[39m\u001b[39m*\u001b[39mkwargs)\n\u001b[0;32m   1502\u001b[0m \u001b[39m# Do not call functions when jit is used\u001b[39;00m\n\u001b[0;32m   1503\u001b[0m full_backward_hooks, non_full_backward_hooks \u001b[39m=\u001b[39m [], []\n",
      "File \u001b[1;32mc:\\Users\\jieun\\AppData\\Local\\Programs\\Python\\Python310\\lib\\site-packages\\transformers\\models\\gpt_neox\\modeling_gpt_neox.py:763\u001b[0m, in \u001b[0;36mGPTNeoXForCausalLM.forward\u001b[1;34m(self, input_ids, attention_mask, position_ids, inputs_embeds, head_mask, past_key_values, labels, use_cache, output_attentions, output_hidden_states, return_dict)\u001b[0m\n\u001b[0;32m    722\u001b[0m \u001b[39mr\u001b[39m\u001b[39m\"\"\"\u001b[39;00m\n\u001b[0;32m    723\u001b[0m \u001b[39mpast_key_values (`tuple(tuple(torch.FloatTensor))`, *optional*, returned when `use_cache=True` is passed or when `config.use_cache=True`):\u001b[39;00m\n\u001b[0;32m    724\u001b[0m \u001b[39m    Tuple of `tuple(torch.FloatTensor)` of length `config.n_layers`, with each tuple having 2 tensors of shape\u001b[39;00m\n\u001b[1;32m   (...)\u001b[0m\n\u001b[0;32m    759\u001b[0m \u001b[39m>>> prediction_logits = outputs.logits\u001b[39;00m\n\u001b[0;32m    760\u001b[0m \u001b[39m```\"\"\"\u001b[39;00m\n\u001b[0;32m    761\u001b[0m return_dict \u001b[39m=\u001b[39m return_dict \u001b[39mif\u001b[39;00m return_dict \u001b[39mis\u001b[39;00m \u001b[39mnot\u001b[39;00m \u001b[39mNone\u001b[39;00m \u001b[39melse\u001b[39;00m \u001b[39mself\u001b[39m\u001b[39m.\u001b[39mconfig\u001b[39m.\u001b[39muse_return_dict\n\u001b[1;32m--> 763\u001b[0m outputs \u001b[39m=\u001b[39m \u001b[39mself\u001b[39;49m\u001b[39m.\u001b[39;49mgpt_neox(\n\u001b[0;32m    764\u001b[0m     input_ids,\n\u001b[0;32m    765\u001b[0m     attention_mask\u001b[39m=\u001b[39;49mattention_mask,\n\u001b[0;32m    766\u001b[0m     position_ids\u001b[39m=\u001b[39;49mposition_ids,\n\u001b[0;32m    767\u001b[0m     head_mask\u001b[39m=\u001b[39;49mhead_mask,\n\u001b[0;32m    768\u001b[0m     inputs_embeds\u001b[39m=\u001b[39;49minputs_embeds,\n\u001b[0;32m    769\u001b[0m     past_key_values\u001b[39m=\u001b[39;49mpast_key_values,\n\u001b[0;32m    770\u001b[0m     use_cache\u001b[39m=\u001b[39;49muse_cache,\n\u001b[0;32m    771\u001b[0m     output_attentions\u001b[39m=\u001b[39;49moutput_attentions,\n\u001b[0;32m    772\u001b[0m     output_hidden_states\u001b[39m=\u001b[39;49moutput_hidden_states,\n\u001b[0;32m    773\u001b[0m     return_dict\u001b[39m=\u001b[39;49mreturn_dict,\n\u001b[0;32m    774\u001b[0m )\n\u001b[0;32m    776\u001b[0m hidden_states \u001b[39m=\u001b[39m outputs[\u001b[39m0\u001b[39m]\n\u001b[0;32m    777\u001b[0m lm_logits \u001b[39m=\u001b[39m \u001b[39mself\u001b[39m\u001b[39m.\u001b[39membed_out(hidden_states)\n",
      "File \u001b[1;32mc:\\Users\\jieun\\AppData\\Local\\Programs\\Python\\Python310\\lib\\site-packages\\torch\\nn\\modules\\module.py:1501\u001b[0m, in \u001b[0;36mModule._call_impl\u001b[1;34m(self, *args, **kwargs)\u001b[0m\n\u001b[0;32m   1496\u001b[0m \u001b[39m# If we don't have any hooks, we want to skip the rest of the logic in\u001b[39;00m\n\u001b[0;32m   1497\u001b[0m \u001b[39m# this function, and just call forward.\u001b[39;00m\n\u001b[0;32m   1498\u001b[0m \u001b[39mif\u001b[39;00m \u001b[39mnot\u001b[39;00m (\u001b[39mself\u001b[39m\u001b[39m.\u001b[39m_backward_hooks \u001b[39mor\u001b[39;00m \u001b[39mself\u001b[39m\u001b[39m.\u001b[39m_backward_pre_hooks \u001b[39mor\u001b[39;00m \u001b[39mself\u001b[39m\u001b[39m.\u001b[39m_forward_hooks \u001b[39mor\u001b[39;00m \u001b[39mself\u001b[39m\u001b[39m.\u001b[39m_forward_pre_hooks\n\u001b[0;32m   1499\u001b[0m         \u001b[39mor\u001b[39;00m _global_backward_pre_hooks \u001b[39mor\u001b[39;00m _global_backward_hooks\n\u001b[0;32m   1500\u001b[0m         \u001b[39mor\u001b[39;00m _global_forward_hooks \u001b[39mor\u001b[39;00m _global_forward_pre_hooks):\n\u001b[1;32m-> 1501\u001b[0m     \u001b[39mreturn\u001b[39;00m forward_call(\u001b[39m*\u001b[39margs, \u001b[39m*\u001b[39m\u001b[39m*\u001b[39mkwargs)\n\u001b[0;32m   1502\u001b[0m \u001b[39m# Do not call functions when jit is used\u001b[39;00m\n\u001b[0;32m   1503\u001b[0m full_backward_hooks, non_full_backward_hooks \u001b[39m=\u001b[39m [], []\n",
      "File \u001b[1;32mc:\\Users\\jieun\\AppData\\Local\\Programs\\Python\\Python310\\lib\\site-packages\\transformers\\models\\gpt_neox\\modeling_gpt_neox.py:654\u001b[0m, in \u001b[0;36mGPTNeoXModel.forward\u001b[1;34m(self, input_ids, attention_mask, position_ids, head_mask, inputs_embeds, past_key_values, use_cache, output_attentions, output_hidden_states, return_dict)\u001b[0m\n\u001b[0;32m    646\u001b[0m     outputs \u001b[39m=\u001b[39m torch\u001b[39m.\u001b[39mutils\u001b[39m.\u001b[39mcheckpoint\u001b[39m.\u001b[39mcheckpoint(\n\u001b[0;32m    647\u001b[0m         create_custom_forward(layer),\n\u001b[0;32m    648\u001b[0m         hidden_states,\n\u001b[1;32m   (...)\u001b[0m\n\u001b[0;32m    651\u001b[0m         head_mask[i],\n\u001b[0;32m    652\u001b[0m     )\n\u001b[0;32m    653\u001b[0m \u001b[39melse\u001b[39;00m:\n\u001b[1;32m--> 654\u001b[0m     outputs \u001b[39m=\u001b[39m layer(\n\u001b[0;32m    655\u001b[0m         hidden_states,\n\u001b[0;32m    656\u001b[0m         attention_mask\u001b[39m=\u001b[39;49mattention_mask,\n\u001b[0;32m    657\u001b[0m         position_ids\u001b[39m=\u001b[39;49mposition_ids,\n\u001b[0;32m    658\u001b[0m         head_mask\u001b[39m=\u001b[39;49mhead_mask[i],\n\u001b[0;32m    659\u001b[0m         layer_past\u001b[39m=\u001b[39;49mlayer_past,\n\u001b[0;32m    660\u001b[0m         use_cache\u001b[39m=\u001b[39;49muse_cache,\n\u001b[0;32m    661\u001b[0m         output_attentions\u001b[39m=\u001b[39;49moutput_attentions,\n\u001b[0;32m    662\u001b[0m     )\n\u001b[0;32m    663\u001b[0m hidden_states \u001b[39m=\u001b[39m outputs[\u001b[39m0\u001b[39m]\n\u001b[0;32m    664\u001b[0m \u001b[39mif\u001b[39;00m use_cache \u001b[39mis\u001b[39;00m \u001b[39mTrue\u001b[39;00m:\n",
      "File \u001b[1;32mc:\\Users\\jieun\\AppData\\Local\\Programs\\Python\\Python310\\lib\\site-packages\\torch\\nn\\modules\\module.py:1501\u001b[0m, in \u001b[0;36mModule._call_impl\u001b[1;34m(self, *args, **kwargs)\u001b[0m\n\u001b[0;32m   1496\u001b[0m \u001b[39m# If we don't have any hooks, we want to skip the rest of the logic in\u001b[39;00m\n\u001b[0;32m   1497\u001b[0m \u001b[39m# this function, and just call forward.\u001b[39;00m\n\u001b[0;32m   1498\u001b[0m \u001b[39mif\u001b[39;00m \u001b[39mnot\u001b[39;00m (\u001b[39mself\u001b[39m\u001b[39m.\u001b[39m_backward_hooks \u001b[39mor\u001b[39;00m \u001b[39mself\u001b[39m\u001b[39m.\u001b[39m_backward_pre_hooks \u001b[39mor\u001b[39;00m \u001b[39mself\u001b[39m\u001b[39m.\u001b[39m_forward_hooks \u001b[39mor\u001b[39;00m \u001b[39mself\u001b[39m\u001b[39m.\u001b[39m_forward_pre_hooks\n\u001b[0;32m   1499\u001b[0m         \u001b[39mor\u001b[39;00m _global_backward_pre_hooks \u001b[39mor\u001b[39;00m _global_backward_hooks\n\u001b[0;32m   1500\u001b[0m         \u001b[39mor\u001b[39;00m _global_forward_hooks \u001b[39mor\u001b[39;00m _global_forward_pre_hooks):\n\u001b[1;32m-> 1501\u001b[0m     \u001b[39mreturn\u001b[39;00m forward_call(\u001b[39m*\u001b[39margs, \u001b[39m*\u001b[39m\u001b[39m*\u001b[39mkwargs)\n\u001b[0;32m   1502\u001b[0m \u001b[39m# Do not call functions when jit is used\u001b[39;00m\n\u001b[0;32m   1503\u001b[0m full_backward_hooks, non_full_backward_hooks \u001b[39m=\u001b[39m [], []\n",
      "File \u001b[1;32mc:\\Users\\jieun\\AppData\\Local\\Programs\\Python\\Python310\\lib\\site-packages\\transformers\\models\\gpt_neox\\modeling_gpt_neox.py:416\u001b[0m, in \u001b[0;36mGPTNeoXLayer.forward\u001b[1;34m(self, hidden_states, attention_mask, position_ids, head_mask, use_cache, layer_past, output_attentions)\u001b[0m\n\u001b[0;32m    406\u001b[0m \u001b[39mdef\u001b[39;00m \u001b[39mforward\u001b[39m(\n\u001b[0;32m    407\u001b[0m     \u001b[39mself\u001b[39m,\n\u001b[0;32m    408\u001b[0m     hidden_states: Optional[torch\u001b[39m.\u001b[39mFloatTensor],\n\u001b[1;32m   (...)\u001b[0m\n\u001b[0;32m    414\u001b[0m     output_attentions: Optional[\u001b[39mbool\u001b[39m] \u001b[39m=\u001b[39m \u001b[39mFalse\u001b[39;00m,\n\u001b[0;32m    415\u001b[0m ):\n\u001b[1;32m--> 416\u001b[0m     attention_layer_outputs \u001b[39m=\u001b[39m \u001b[39mself\u001b[39;49m\u001b[39m.\u001b[39;49mattention(\n\u001b[0;32m    417\u001b[0m         \u001b[39mself\u001b[39;49m\u001b[39m.\u001b[39;49minput_layernorm(hidden_states),\n\u001b[0;32m    418\u001b[0m         attention_mask\u001b[39m=\u001b[39;49mattention_mask,\n\u001b[0;32m    419\u001b[0m         position_ids\u001b[39m=\u001b[39;49mposition_ids,\n\u001b[0;32m    420\u001b[0m         layer_past\u001b[39m=\u001b[39;49mlayer_past,\n\u001b[0;32m    421\u001b[0m         head_mask\u001b[39m=\u001b[39;49mhead_mask,\n\u001b[0;32m    422\u001b[0m         use_cache\u001b[39m=\u001b[39;49muse_cache,\n\u001b[0;32m    423\u001b[0m         output_attentions\u001b[39m=\u001b[39;49moutput_attentions,\n\u001b[0;32m    424\u001b[0m     )\n\u001b[0;32m    425\u001b[0m     attn_output \u001b[39m=\u001b[39m attention_layer_outputs[\u001b[39m0\u001b[39m]  \u001b[39m# output_attn: attn_output, present, (attn_weights)\u001b[39;00m\n\u001b[0;32m    426\u001b[0m     attn_output \u001b[39m=\u001b[39m \u001b[39mself\u001b[39m\u001b[39m.\u001b[39mpost_attention_dropout(attn_output)\n",
      "File \u001b[1;32mc:\\Users\\jieun\\AppData\\Local\\Programs\\Python\\Python310\\lib\\site-packages\\torch\\nn\\modules\\module.py:1501\u001b[0m, in \u001b[0;36mModule._call_impl\u001b[1;34m(self, *args, **kwargs)\u001b[0m\n\u001b[0;32m   1496\u001b[0m \u001b[39m# If we don't have any hooks, we want to skip the rest of the logic in\u001b[39;00m\n\u001b[0;32m   1497\u001b[0m \u001b[39m# this function, and just call forward.\u001b[39;00m\n\u001b[0;32m   1498\u001b[0m \u001b[39mif\u001b[39;00m \u001b[39mnot\u001b[39;00m (\u001b[39mself\u001b[39m\u001b[39m.\u001b[39m_backward_hooks \u001b[39mor\u001b[39;00m \u001b[39mself\u001b[39m\u001b[39m.\u001b[39m_backward_pre_hooks \u001b[39mor\u001b[39;00m \u001b[39mself\u001b[39m\u001b[39m.\u001b[39m_forward_hooks \u001b[39mor\u001b[39;00m \u001b[39mself\u001b[39m\u001b[39m.\u001b[39m_forward_pre_hooks\n\u001b[0;32m   1499\u001b[0m         \u001b[39mor\u001b[39;00m _global_backward_pre_hooks \u001b[39mor\u001b[39;00m _global_backward_hooks\n\u001b[0;32m   1500\u001b[0m         \u001b[39mor\u001b[39;00m _global_forward_hooks \u001b[39mor\u001b[39;00m _global_forward_pre_hooks):\n\u001b[1;32m-> 1501\u001b[0m     \u001b[39mreturn\u001b[39;00m forward_call(\u001b[39m*\u001b[39margs, \u001b[39m*\u001b[39m\u001b[39m*\u001b[39mkwargs)\n\u001b[0;32m   1502\u001b[0m \u001b[39m# Do not call functions when jit is used\u001b[39;00m\n\u001b[0;32m   1503\u001b[0m full_backward_hooks, non_full_backward_hooks \u001b[39m=\u001b[39m [], []\n",
      "File \u001b[1;32mc:\\Users\\jieun\\AppData\\Local\\Programs\\Python\\Python310\\lib\\site-packages\\transformers\\models\\gpt_neox\\modeling_gpt_neox.py:181\u001b[0m, in \u001b[0;36mGPTNeoXAttention.forward\u001b[1;34m(self, hidden_states, attention_mask, position_ids, head_mask, layer_past, use_cache, output_attentions)\u001b[0m\n\u001b[0;32m    179\u001b[0m \u001b[39mif\u001b[39;00m has_layer_past:\n\u001b[0;32m    180\u001b[0m     seq_len \u001b[39m+\u001b[39m\u001b[39m=\u001b[39m layer_past[\u001b[39m0\u001b[39m]\u001b[39m.\u001b[39mshape[\u001b[39m-\u001b[39m\u001b[39m2\u001b[39m]\n\u001b[1;32m--> 181\u001b[0m cos, sin \u001b[39m=\u001b[39m \u001b[39mself\u001b[39;49m\u001b[39m.\u001b[39;49mrotary_emb(value, seq_len\u001b[39m=\u001b[39;49mseq_len)\n\u001b[0;32m    182\u001b[0m query, key \u001b[39m=\u001b[39m apply_rotary_pos_emb(query_rot, key_rot, cos, sin, position_ids)\n\u001b[0;32m    183\u001b[0m query \u001b[39m=\u001b[39m torch\u001b[39m.\u001b[39mcat((query, query_pass), dim\u001b[39m=\u001b[39m\u001b[39m-\u001b[39m\u001b[39m1\u001b[39m)\n",
      "File \u001b[1;32mc:\\Users\\jieun\\AppData\\Local\\Programs\\Python\\Python310\\lib\\site-packages\\torch\\nn\\modules\\module.py:1501\u001b[0m, in \u001b[0;36mModule._call_impl\u001b[1;34m(self, *args, **kwargs)\u001b[0m\n\u001b[0;32m   1496\u001b[0m \u001b[39m# If we don't have any hooks, we want to skip the rest of the logic in\u001b[39;00m\n\u001b[0;32m   1497\u001b[0m \u001b[39m# this function, and just call forward.\u001b[39;00m\n\u001b[0;32m   1498\u001b[0m \u001b[39mif\u001b[39;00m \u001b[39mnot\u001b[39;00m (\u001b[39mself\u001b[39m\u001b[39m.\u001b[39m_backward_hooks \u001b[39mor\u001b[39;00m \u001b[39mself\u001b[39m\u001b[39m.\u001b[39m_backward_pre_hooks \u001b[39mor\u001b[39;00m \u001b[39mself\u001b[39m\u001b[39m.\u001b[39m_forward_hooks \u001b[39mor\u001b[39;00m \u001b[39mself\u001b[39m\u001b[39m.\u001b[39m_forward_pre_hooks\n\u001b[0;32m   1499\u001b[0m         \u001b[39mor\u001b[39;00m _global_backward_pre_hooks \u001b[39mor\u001b[39;00m _global_backward_hooks\n\u001b[0;32m   1500\u001b[0m         \u001b[39mor\u001b[39;00m _global_forward_hooks \u001b[39mor\u001b[39;00m _global_forward_pre_hooks):\n\u001b[1;32m-> 1501\u001b[0m     \u001b[39mreturn\u001b[39;00m forward_call(\u001b[39m*\u001b[39margs, \u001b[39m*\u001b[39m\u001b[39m*\u001b[39mkwargs)\n\u001b[0;32m   1502\u001b[0m \u001b[39m# Do not call functions when jit is used\u001b[39;00m\n\u001b[0;32m   1503\u001b[0m full_backward_hooks, non_full_backward_hooks \u001b[39m=\u001b[39m [], []\n",
      "File \u001b[1;32mc:\\Users\\jieun\\AppData\\Local\\Programs\\Python\\Python310\\lib\\site-packages\\transformers\\models\\gpt_neox\\modeling_gpt_neox.py:316\u001b[0m, in \u001b[0;36mGPTNeoXRotaryEmbedding.forward\u001b[1;34m(self, x, seq_len)\u001b[0m\n\u001b[0;32m    314\u001b[0m \u001b[39mif\u001b[39;00m seq_len \u001b[39m>\u001b[39m \u001b[39mself\u001b[39m\u001b[39m.\u001b[39mmax_seq_len_cached:\n\u001b[0;32m    315\u001b[0m     \u001b[39mself\u001b[39m\u001b[39m.\u001b[39m_set_cos_sin_cache(seq_len\u001b[39m=\u001b[39mseq_len, device\u001b[39m=\u001b[39mx\u001b[39m.\u001b[39mdevice)\n\u001b[1;32m--> 316\u001b[0m \u001b[39mreturn\u001b[39;00m \u001b[39mself\u001b[39;49m\u001b[39m.\u001b[39;49mcos_cached[:seq_len, \u001b[39m.\u001b[39;49m\u001b[39m.\u001b[39;49m\u001b[39m.\u001b[39;49m]\u001b[39m.\u001b[39;49mto(x\u001b[39m.\u001b[39;49mdevice), \u001b[39mself\u001b[39m\u001b[39m.\u001b[39msin_cached[:seq_len, \u001b[39m.\u001b[39m\u001b[39m.\u001b[39m\u001b[39m.\u001b[39m]\u001b[39m.\u001b[39mto(x\u001b[39m.\u001b[39mdevice)\n",
      "\u001b[1;31mKeyboardInterrupt\u001b[0m: "
     ]
    }
   ],
   "source": [
    "q = f\"{response}정보를 요약 후 종로구에 대해 설명해줘\"\n",
    "ask(q)"
   ]
  },
  {
   "cell_type": "markdown",
   "metadata": {},
   "source": [
    "---\n",
    "\n",
    "## LLM"
   ]
  },
  {
   "cell_type": "code",
   "execution_count": 9,
   "metadata": {},
   "outputs": [
    {
     "name": "stdout",
     "output_type": "stream",
     "text": [
      "Sun Sep 10 20:15:33 2023       \n",
      "+---------------------------------------------------------------------------------------+\n",
      "| NVIDIA-SMI 537.13                 Driver Version: 537.13       CUDA Version: 12.2     |\n",
      "|-----------------------------------------+----------------------+----------------------+\n",
      "| GPU  Name                     TCC/WDDM  | Bus-Id        Disp.A | Volatile Uncorr. ECC |\n",
      "| Fan  Temp   Perf          Pwr:Usage/Cap |         Memory-Usage | GPU-Util  Compute M. |\n",
      "|                                         |                      |               MIG M. |\n",
      "|=========================================+======================+======================|\n",
      "|   0  Quadro P1000                 WDDM  | 00000000:73:00.0  On |                  N/A |\n",
      "| 37%   49C    P8              N/A /  N/A |   3771MiB /  4096MiB |     23%      Default |\n",
      "|                                         |                      |                  N/A |\n",
      "+-----------------------------------------+----------------------+----------------------+\n",
      "                                                                                         \n",
      "+---------------------------------------------------------------------------------------+\n",
      "| Processes:                                                                            |\n",
      "|  GPU   GI   CI        PID   Type   Process name                            GPU Memory |\n",
      "|        ID   ID                                                             Usage      |\n",
      "|=======================================================================================|\n",
      "|    0   N/A  N/A     15568    C+G   ...ekyb3d8bbwe\\PhoneExperienceHost.exe    N/A      |\n",
      "|    0   N/A  N/A     19056    C+G   ...t Office\\root\\Office16\\POWERPNT.EXE    N/A      |\n",
      "|    0   N/A  N/A     20680    C+G   ...l\\Microsoft\\Teams\\current\\Teams.exe    N/A      |\n",
      "|    0   N/A  N/A     27216      C   ...rograms\\Python\\Python310\\python.exe    N/A      |\n",
      "|    0   N/A  N/A     28664    C+G   ...CBS_cw5n1h2txyewy\\TextInputHost.exe    N/A      |\n",
      "|    0   N/A  N/A     30200    C+G   ...2txyewy\\StartMenuExperienceHost.exe    N/A      |\n",
      "|    0   N/A  N/A     30560    C+G   ...Programs\\Microsoft VS Code\\Code.exe    N/A      |\n",
      "|    0   N/A  N/A     32656    C+G   ...a\\Local\\slack\\app-4.33.90\\slack.exe    N/A      |\n",
      "|    0   N/A  N/A     34204    C+G   ...on\\116.0.1938.69\\msedgewebview2.exe    N/A      |\n",
      "|    0   N/A  N/A     39696    C+G   ...5n1h2txyewy\\ShellExperienceHost.exe    N/A      |\n",
      "|    0   N/A  N/A     39704    C+G   C:\\Windows\\explorer.exe                   N/A      |\n",
      "|    0   N/A  N/A     42096    C+G   C:\\Windows\\explorer.exe                   N/A      |\n",
      "|    0   N/A  N/A     43816    C+G   ...__8wekyb3d8bbwe\\WindowsTerminal.exe    N/A      |\n",
      "|    0   N/A  N/A     45516    C+G   ...nt.CBS_cw5n1h2txyewy\\SearchHost.exe    N/A      |\n",
      "|    0   N/A  N/A     49908    C+G   ...l\\Microsoft\\Teams\\current\\Teams.exe    N/A      |\n",
      "|    0   N/A  N/A     50272    C+G   ...72.0_x64__8wekyb3d8bbwe\\GameBar.exe    N/A      |\n",
      "|    0   N/A  N/A     52160    C+G   ...2954_x64__8wekyb3d8bbwe\\msteams.exe    N/A      |\n",
      "|    0   N/A  N/A     52268    C+G   ...on\\116.0.1938.69\\msedgewebview2.exe    N/A      |\n",
      "|    0   N/A  N/A     53760    C+G   ...es (x86)\\Dropbox\\Client\\Dropbox.exe    N/A      |\n",
      "|    0   N/A  N/A     56476    C+G   C:\\Program Files\\RStudio\\rstudio.exe      N/A      |\n",
      "|    0   N/A  N/A     63752    C+G   ...siveControlPanel\\SystemSettings.exe    N/A      |\n",
      "|    0   N/A  N/A     66504    C+G   ...__8wekyb3d8bbwe\\WindowsTerminal.exe    N/A      |\n",
      "|    0   N/A  N/A     67164    C+G   ...8bbwe\\SnippingTool\\SnippingTool.exe    N/A      |\n",
      "|    0   N/A  N/A     69772    C+G   ...t.LockApp_cw5n1h2txyewy\\LockApp.exe    N/A      |\n",
      "|    0   N/A  N/A     69812    C+G   ...oogle\\Chrome\\Application\\chrome.exe    N/A      |\n",
      "+---------------------------------------------------------------------------------------+\n",
      "WARNING: infoROM is corrupted at gpu 0000:73:00.0\n"
     ]
    }
   ],
   "source": [
    "!nvidia-smi"
   ]
  },
  {
   "cell_type": "code",
   "execution_count": 24,
   "metadata": {},
   "outputs": [],
   "source": [
    "!pip install -q -U bitsandbytes"
   ]
  },
  {
   "cell_type": "code",
   "execution_count": 26,
   "metadata": {},
   "outputs": [
    {
     "data": {
      "application/vnd.jupyter.widget-view+json": {
       "model_id": "1a77c43d07a44b6598490f779b5dcfe8",
       "version_major": 2,
       "version_minor": 0
      },
      "text/plain": [
       "Downloading (…)fetensors.index.json:   0%|          | 0.00/52.5k [00:00<?, ?B/s]"
      ]
     },
     "metadata": {},
     "output_type": "display_data"
    },
    {
     "data": {
      "application/vnd.jupyter.widget-view+json": {
       "model_id": "fe78658f0ea943739879bf4a8799199a",
       "version_major": 2,
       "version_minor": 0
      },
      "text/plain": [
       "Downloading shards:   0%|          | 0/28 [00:00<?, ?it/s]"
      ]
     },
     "metadata": {},
     "output_type": "display_data"
    },
    {
     "data": {
      "application/vnd.jupyter.widget-view+json": {
       "model_id": "90e539fb049d4cf3a78990c9b2233549",
       "version_major": 2,
       "version_minor": 0
      },
      "text/plain": [
       "Downloading (…)of-00028.safetensors:   0%|          | 0.00/946M [00:00<?, ?B/s]"
      ]
     },
     "metadata": {},
     "output_type": "display_data"
    },
    {
     "data": {
      "application/vnd.jupyter.widget-view+json": {
       "model_id": "89294bd3e21344a1a51541a023c29d17",
       "version_major": 2,
       "version_minor": 0
      },
      "text/plain": [
       "Downloading (…)of-00028.safetensors:   0%|          | 0.00/843M [00:00<?, ?B/s]"
      ]
     },
     "metadata": {},
     "output_type": "display_data"
    }
   ],
   "source": [
    "import torch\n",
    "from transformers import AutoTokenizer, AutoModelForCausalLM, BitsAndBytesConfig\n",
    "\n",
    "model_id = \"EleutherAI/polyglot-ko-12.8b\"\n",
    "bnb_config = BitsAndBytesConfig(\n",
    "    bnb_4bit_use_double_quant=True,\n",
    "    bnb_4bit_quant_type=\"nf4\",\n",
    "    bnb_4bit_compute_dtype=torch.bfloat16\n",
    ")\n",
    "\n",
    "tokenizer = AutoTokenizer.from_pretrained(model_id)\n",
    "model = AutoModelForCausalLM.from_pretrained(model_id, quantization_config=bnb_config, device_map={\"\":0})"
   ]
  },
  {
   "cell_type": "code",
   "execution_count": null,
   "metadata": {},
   "outputs": [],
   "source": []
  },
  {
   "cell_type": "code",
   "execution_count": null,
   "metadata": {},
   "outputs": [],
   "source": []
  }
 ],
 "metadata": {
  "kernelspec": {
   "display_name": "Python 3",
   "language": "python",
   "name": "python3"
  },
  "language_info": {
   "codemirror_mode": {
    "name": "ipython",
    "version": 3
   },
   "file_extension": ".py",
   "mimetype": "text/x-python",
   "name": "python",
   "nbconvert_exporter": "python",
   "pygments_lexer": "ipython3",
   "version": "3.10.7"
  },
  "orig_nbformat": 4
 },
 "nbformat": 4,
 "nbformat_minor": 2
}
